{
 "cells": [
  {
   "cell_type": "markdown",
   "id": "1bcae384",
   "metadata": {},
   "source": [
    "<div class=\"sc-eZkcaX hQBQJi\"><div class=\"note\">\n",
    "We highly recommend <a href=\"https://kaggle.com/c/titanic/overview\">Titanic - Machine Learning from Disaster</a> to get familiar with the basics of machine learning and Kaggle competitions.\n",
    "</div>\n",
    "<p>Welcome to the year 2912, where your data science skills are needed to solve a cosmic mystery. We've received a transmission from four lightyears away and things aren't looking good.</p>\n",
    "<p>The <em>Spaceship Titanic</em> was an interstellar passenger liner launched a month ago. With almost 13,000 passengers on board, the vessel set out on its maiden voyage transporting emigrants from our solar system to three newly habitable exoplanets orbiting nearby stars.</p>\n",
    "<p>While rounding Alpha Centauri en route to its first destination—the torrid 55 Cancri E—the unwary <em>Spaceship Titanic</em> collided with a spacetime anomaly hidden within a dust cloud. Sadly, it met a similar fate as its namesake from 1000 years before. Though the ship stayed intact, almost half of the passengers were transported to an alternate dimension!</p>\n",
    "<p><img style=\"float:center;height:320px;width:404px\" src=\"https://storage.googleapis.com/kaggle-media/competitions/Spaceship%20Titanic/joel-filipe-QwoNAhbmLLo-unsplash.jpg\"></p>\n",
    "<p>To help rescue crews and retrieve the lost passengers, you are challenged to predict which passengers were transported by the anomaly using records recovered from the spaceship’s damaged computer system.</p>\n",
    "<p>Help save them and change history!</p>\n"
   ]
  },
  {
   "cell_type": "markdown",
   "id": "448f2b26",
   "metadata": {},
   "source": [
    "# Dataset Description\n",
    "In this competition your task is to predict whether a passenger was transported to an alternate dimension during the Spaceship Titanic's collision with the spacetime anomaly. To help you make these predictions, you're given a set of personal records recovered from the ship's damaged computer system.\n",
    "\n",
    "<div class=\"sc-kFuwyI fXnIZt\"><div style=\"min-height: 80px;\"><div class=\"sc-eZkcaX hQBQJi\"><p>In this competition your task is to predict whether a passenger was transported to an alternate dimension during the <em>Spaceship Titanic</em>'s collision with the spacetime anomaly. To help you make these predictions, you're given a set of personal records recovered from the ship's damaged computer system.</p>\n",
    "<h1>File and Data Field Descriptions</h1>\n",
    "<ul>\n",
    "<li><strong>train.csv</strong> - Personal records for about two-thirds (~8700) of the passengers, to be used as training data.<ul>\n",
    "<li><code>PassengerId</code> - A unique Id for each passenger. Each Id takes the form <code>gggg_pp</code> where <code>gggg</code> indicates a group the passenger is travelling with and <code>pp</code> is their number within the group. People in a group are often family members, but not always.</li>\n",
    "<li><code>HomePlanet</code> - The planet the passenger departed from, typically their planet of permanent residence.</li>\n",
    "<li><code>CryoSleep</code> - Indicates whether the passenger elected to be put into suspended animation for the duration of the voyage. Passengers in cryosleep are confined to their cabins.</li>\n",
    "<li><code>Cabin</code> - The cabin number where the passenger is staying. Takes the form <code>deck/num/side</code>, where <code>side</code> can be either <code>P</code> for <em>Port</em> or <code>S</code> for <em>Starboard</em>.</li>\n",
    "<li><code>Destination</code> - The planet the passenger will be debarking to.</li>\n",
    "<li><code>Age</code> - The age of the passenger.</li>\n",
    "<li><code>VIP</code> - Whether the passenger has paid for special VIP service during the voyage.</li>\n",
    "<li><code>RoomService</code>, <code>FoodCourt</code>, <code>ShoppingMall</code>, <code>Spa</code>, <code>VRDeck</code> - Amount the passenger has billed at each of the <em>Spaceship Titanic</em>'s many luxury amenities.</li>\n",
    "<li><code>Name</code> - The first and last names of the passenger.</li>\n",
    "<li><code>Transported</code> - Whether the passenger was transported to another dimension. This is the target, the column you are trying to predict.</li></ul></li>\n",
    "<li><strong>test.csv</strong> - Personal records for the remaining one-third (~4300) of the passengers, to be used as test data. Your task is to predict the value of <code>Transported</code> for the passengers in this set. </li>\n",
    "<li><strong>sample_submission.csv</strong> - A submission file in the correct format.<ul>\n",
    "<li><code>PassengerId</code> - Id for each passenger in the test set.</li>\n",
    "<li><code>Transported</code> - The target. For each passenger, predict either <code>True</code> or <code>False</code>.</li></ul></li>\n",
    "</ul></div></div></div>"
   ]
  },
  {
   "cell_type": "code",
   "execution_count": 1,
   "id": "e55cea8e",
   "metadata": {
    "execution": {
     "iopub.execute_input": "2023-02-20T00:12:50.279591Z",
     "iopub.status.busy": "2023-02-20T00:12:50.278439Z",
     "iopub.status.idle": "2023-02-20T00:12:52.887564Z",
     "shell.execute_reply": "2023-02-20T00:12:52.886185Z"
    },
    "papermill": {
     "duration": 2.637873,
     "end_time": "2023-02-20T00:12:52.890879",
     "exception": false,
     "start_time": "2023-02-20T00:12:50.253006",
     "status": "completed"
    },
    "tags": []
   },
   "outputs": [],
   "source": [
    "import pandas as pd\n",
    "import numpy as np\n",
    "\n",
    "import matplotlib.pyplot as plt\n",
    "import seaborn as sns\n",
    "\n",
    "from sklearn.experimental import enable_iterative_imputer\n",
    "from sklearn.impute import (SimpleImputer, IterativeImputer)\n",
    "from sklearn.preprocessing import (OneHotEncoder, StandardScaler)\n",
    "from sklearn.model_selection import (GridSearchCV, cross_val_score)\n",
    "from sklearn.feature_selection import SequentialFeatureSelector\n",
    "from sklearn.cluster import KMeans\n",
    "from category_encoders import MEstimateEncoder\n",
    "#from imblearn.over_sampling import SMOTE\n",
    "from catboost import CatBoostClassifier"
   ]
  },
  {
   "cell_type": "code",
   "execution_count": null,
   "id": "880d1019",
   "metadata": {},
   "outputs": [],
   "source": []
  },
  {
   "cell_type": "code",
   "execution_count": null,
   "id": "bdbf6b7b",
   "metadata": {},
   "outputs": [],
   "source": []
  },
  {
   "cell_type": "code",
   "execution_count": 2,
   "id": "6dc01771",
   "metadata": {
    "execution": {
     "iopub.execute_input": "2023-02-20T00:12:52.929719Z",
     "iopub.status.busy": "2023-02-20T00:12:52.928880Z",
     "iopub.status.idle": "2023-02-20T00:12:53.029772Z",
     "shell.execute_reply": "2023-02-20T00:12:53.028334Z"
    },
    "papermill": {
     "duration": 0.123664,
     "end_time": "2023-02-20T00:12:53.032869",
     "exception": false,
     "start_time": "2023-02-20T00:12:52.909205",
     "status": "completed"
    },
    "tags": []
   },
   "outputs": [],
   "source": [
    "# Load data\n",
    "full_df = pd.read_csv('train.csv')\n",
    "test_df = pd.read_csv('test.csv')"
   ]
  },
  {
   "cell_type": "markdown",
   "id": "3fa58112",
   "metadata": {
    "papermill": {
     "duration": 0.018353,
     "end_time": "2023-02-20T00:12:53.070359",
     "exception": false,
     "start_time": "2023-02-20T00:12:53.052006",
     "status": "completed"
    },
    "tags": []
   },
   "source": [
    "# Analyze data"
   ]
  },
  {
   "cell_type": "code",
   "execution_count": 3,
   "id": "95d5df2a",
   "metadata": {
    "execution": {
     "iopub.execute_input": "2023-02-20T00:12:53.111597Z",
     "iopub.status.busy": "2023-02-20T00:12:53.110111Z",
     "iopub.status.idle": "2023-02-20T00:12:53.143102Z",
     "shell.execute_reply": "2023-02-20T00:12:53.142000Z"
    },
    "papermill": {
     "duration": 0.057131,
     "end_time": "2023-02-20T00:12:53.146469",
     "exception": false,
     "start_time": "2023-02-20T00:12:53.089338",
     "status": "completed"
    },
    "tags": []
   },
   "outputs": [
    {
     "data": {
      "text/html": [
       "<div>\n",
       "<style scoped>\n",
       "    .dataframe tbody tr th:only-of-type {\n",
       "        vertical-align: middle;\n",
       "    }\n",
       "\n",
       "    .dataframe tbody tr th {\n",
       "        vertical-align: top;\n",
       "    }\n",
       "\n",
       "    .dataframe thead th {\n",
       "        text-align: right;\n",
       "    }\n",
       "</style>\n",
       "<table border=\"1\" class=\"dataframe\">\n",
       "  <thead>\n",
       "    <tr style=\"text-align: right;\">\n",
       "      <th></th>\n",
       "      <th>PassengerId</th>\n",
       "      <th>HomePlanet</th>\n",
       "      <th>CryoSleep</th>\n",
       "      <th>Cabin</th>\n",
       "      <th>Destination</th>\n",
       "      <th>Age</th>\n",
       "      <th>VIP</th>\n",
       "      <th>RoomService</th>\n",
       "      <th>FoodCourt</th>\n",
       "      <th>ShoppingMall</th>\n",
       "      <th>Spa</th>\n",
       "      <th>VRDeck</th>\n",
       "      <th>Name</th>\n",
       "      <th>Transported</th>\n",
       "    </tr>\n",
       "  </thead>\n",
       "  <tbody>\n",
       "    <tr>\n",
       "      <th>0</th>\n",
       "      <td>0001_01</td>\n",
       "      <td>Europa</td>\n",
       "      <td>False</td>\n",
       "      <td>B/0/P</td>\n",
       "      <td>TRAPPIST-1e</td>\n",
       "      <td>39.0</td>\n",
       "      <td>False</td>\n",
       "      <td>0.0</td>\n",
       "      <td>0.0</td>\n",
       "      <td>0.0</td>\n",
       "      <td>0.0</td>\n",
       "      <td>0.0</td>\n",
       "      <td>Maham Ofracculy</td>\n",
       "      <td>False</td>\n",
       "    </tr>\n",
       "    <tr>\n",
       "      <th>1</th>\n",
       "      <td>0002_01</td>\n",
       "      <td>Earth</td>\n",
       "      <td>False</td>\n",
       "      <td>F/0/S</td>\n",
       "      <td>TRAPPIST-1e</td>\n",
       "      <td>24.0</td>\n",
       "      <td>False</td>\n",
       "      <td>109.0</td>\n",
       "      <td>9.0</td>\n",
       "      <td>25.0</td>\n",
       "      <td>549.0</td>\n",
       "      <td>44.0</td>\n",
       "      <td>Juanna Vines</td>\n",
       "      <td>True</td>\n",
       "    </tr>\n",
       "    <tr>\n",
       "      <th>2</th>\n",
       "      <td>0003_01</td>\n",
       "      <td>Europa</td>\n",
       "      <td>False</td>\n",
       "      <td>A/0/S</td>\n",
       "      <td>TRAPPIST-1e</td>\n",
       "      <td>58.0</td>\n",
       "      <td>True</td>\n",
       "      <td>43.0</td>\n",
       "      <td>3576.0</td>\n",
       "      <td>0.0</td>\n",
       "      <td>6715.0</td>\n",
       "      <td>49.0</td>\n",
       "      <td>Altark Susent</td>\n",
       "      <td>False</td>\n",
       "    </tr>\n",
       "    <tr>\n",
       "      <th>3</th>\n",
       "      <td>0003_02</td>\n",
       "      <td>Europa</td>\n",
       "      <td>False</td>\n",
       "      <td>A/0/S</td>\n",
       "      <td>TRAPPIST-1e</td>\n",
       "      <td>33.0</td>\n",
       "      <td>False</td>\n",
       "      <td>0.0</td>\n",
       "      <td>1283.0</td>\n",
       "      <td>371.0</td>\n",
       "      <td>3329.0</td>\n",
       "      <td>193.0</td>\n",
       "      <td>Solam Susent</td>\n",
       "      <td>False</td>\n",
       "    </tr>\n",
       "    <tr>\n",
       "      <th>4</th>\n",
       "      <td>0004_01</td>\n",
       "      <td>Earth</td>\n",
       "      <td>False</td>\n",
       "      <td>F/1/S</td>\n",
       "      <td>TRAPPIST-1e</td>\n",
       "      <td>16.0</td>\n",
       "      <td>False</td>\n",
       "      <td>303.0</td>\n",
       "      <td>70.0</td>\n",
       "      <td>151.0</td>\n",
       "      <td>565.0</td>\n",
       "      <td>2.0</td>\n",
       "      <td>Willy Santantines</td>\n",
       "      <td>True</td>\n",
       "    </tr>\n",
       "  </tbody>\n",
       "</table>\n",
       "</div>"
      ],
      "text/plain": [
       "  PassengerId HomePlanet CryoSleep  Cabin  Destination   Age    VIP  \\\n",
       "0     0001_01     Europa     False  B/0/P  TRAPPIST-1e  39.0  False   \n",
       "1     0002_01      Earth     False  F/0/S  TRAPPIST-1e  24.0  False   \n",
       "2     0003_01     Europa     False  A/0/S  TRAPPIST-1e  58.0   True   \n",
       "3     0003_02     Europa     False  A/0/S  TRAPPIST-1e  33.0  False   \n",
       "4     0004_01      Earth     False  F/1/S  TRAPPIST-1e  16.0  False   \n",
       "\n",
       "   RoomService  FoodCourt  ShoppingMall     Spa  VRDeck               Name  \\\n",
       "0          0.0        0.0           0.0     0.0     0.0    Maham Ofracculy   \n",
       "1        109.0        9.0          25.0   549.0    44.0       Juanna Vines   \n",
       "2         43.0     3576.0           0.0  6715.0    49.0      Altark Susent   \n",
       "3          0.0     1283.0         371.0  3329.0   193.0       Solam Susent   \n",
       "4        303.0       70.0         151.0   565.0     2.0  Willy Santantines   \n",
       "\n",
       "   Transported  \n",
       "0        False  \n",
       "1         True  \n",
       "2        False  \n",
       "3        False  \n",
       "4         True  "
      ]
     },
     "execution_count": 3,
     "metadata": {},
     "output_type": "execute_result"
    }
   ],
   "source": [
    "full_df.head()"
   ]
  },
  {
   "cell_type": "code",
   "execution_count": 4,
   "id": "be4aa00c",
   "metadata": {
    "execution": {
     "iopub.execute_input": "2023-02-20T00:12:53.186811Z",
     "iopub.status.busy": "2023-02-20T00:12:53.185930Z",
     "iopub.status.idle": "2023-02-20T00:12:53.242654Z",
     "shell.execute_reply": "2023-02-20T00:12:53.240668Z"
    },
    "papermill": {
     "duration": 0.080356,
     "end_time": "2023-02-20T00:12:53.246246",
     "exception": false,
     "start_time": "2023-02-20T00:12:53.165890",
     "status": "completed"
    },
    "tags": []
   },
   "outputs": [
    {
     "name": "stdout",
     "output_type": "stream",
     "text": [
      "<class 'pandas.core.frame.DataFrame'>\n",
      "RangeIndex: 12970 entries, 0 to 12969\n",
      "Data columns (total 13 columns):\n",
      " #   Column        Non-Null Count  Dtype  \n",
      "---  ------        --------------  -----  \n",
      " 0   PassengerId   12970 non-null  object \n",
      " 1   HomePlanet    12682 non-null  object \n",
      " 2   CryoSleep     12660 non-null  object \n",
      " 3   Cabin         12671 non-null  object \n",
      " 4   Destination   12696 non-null  object \n",
      " 5   Age           12700 non-null  float64\n",
      " 6   VIP           12674 non-null  object \n",
      " 7   RoomService   12707 non-null  float64\n",
      " 8   FoodCourt     12681 non-null  float64\n",
      " 9   ShoppingMall  12664 non-null  float64\n",
      " 10  Spa           12686 non-null  float64\n",
      " 11  VRDeck        12702 non-null  float64\n",
      " 12  Name          12676 non-null  object \n",
      "dtypes: float64(6), object(7)\n",
      "memory usage: 1.3+ MB\n"
     ]
    }
   ],
   "source": [
    "# Separate test_df PassengerId (will need it for submission)\n",
    "test_pass_id = test_df.PassengerId.copy()\n",
    "\n",
    "# Keep max index that will be used to back split training and test data\n",
    "X_max_index = full_df.shape[0]\n",
    "\n",
    "# Separate features and target\n",
    "y = full_df.Transported.astype(int)\n",
    "\n",
    "df = full_df.drop(['Transported'], axis=1).copy()\n",
    "df = pd.concat([df, test_df], axis=0).reset_index(drop=True)\n",
    "\n",
    "df.info()"
   ]
  },
  {
   "cell_type": "markdown",
   "id": "24530c77",
   "metadata": {
    "papermill": {
     "duration": 0.01951,
     "end_time": "2023-02-20T00:12:53.285284",
     "exception": false,
     "start_time": "2023-02-20T00:12:53.265774",
     "status": "completed"
    },
    "tags": []
   },
   "source": [
    "# Unprocessed data correlation"
   ]
  },
  {
   "cell_type": "code",
   "execution_count": 5,
   "id": "ab866e27",
   "metadata": {
    "execution": {
     "iopub.execute_input": "2023-02-20T00:12:53.325554Z",
     "iopub.status.busy": "2023-02-20T00:12:53.325029Z",
     "iopub.status.idle": "2023-02-20T00:12:53.340747Z",
     "shell.execute_reply": "2023-02-20T00:12:53.339065Z"
    },
    "papermill": {
     "duration": 0.039093,
     "end_time": "2023-02-20T00:12:53.343758",
     "exception": false,
     "start_time": "2023-02-20T00:12:53.304665",
     "status": "completed"
    },
    "tags": []
   },
   "outputs": [
    {
     "data": {
      "text/plain": [
       "Transported     1.000000\n",
       "FoodCourt       0.046566\n",
       "ShoppingMall    0.010141\n",
       "Age            -0.075026\n",
       "VRDeck         -0.207075\n",
       "Spa            -0.221131\n",
       "RoomService    -0.244611\n",
       "Name: Transported, dtype: float64"
      ]
     },
     "execution_count": 5,
     "metadata": {},
     "output_type": "execute_result"
    }
   ],
   "source": [
    "full_df.corr()['Transported'].sort_values(ascending=False)"
   ]
  },
  {
   "cell_type": "markdown",
   "id": "fde8773d",
   "metadata": {
    "execution": {
     "iopub.execute_input": "2023-02-10T20:23:40.424524Z",
     "iopub.status.busy": "2023-02-10T20:23:40.424068Z",
     "iopub.status.idle": "2023-02-10T20:23:40.431200Z",
     "shell.execute_reply": "2023-02-10T20:23:40.429671Z",
     "shell.execute_reply.started": "2023-02-10T20:23:40.424486Z"
    },
    "papermill": {
     "duration": 0.01878,
     "end_time": "2023-02-20T00:12:53.382006",
     "exception": false,
     "start_time": "2023-02-20T00:12:53.363226",
     "status": "completed"
    },
    "tags": []
   },
   "source": [
    "# Features' instances"
   ]
  },
  {
   "cell_type": "code",
   "execution_count": 6,
   "id": "8655ad2a",
   "metadata": {
    "execution": {
     "iopub.execute_input": "2023-02-20T00:12:53.421552Z",
     "iopub.status.busy": "2023-02-20T00:12:53.420991Z",
     "iopub.status.idle": "2023-02-20T00:12:54.546246Z",
     "shell.execute_reply": "2023-02-20T00:12:54.544472Z"
    },
    "papermill": {
     "duration": 1.148528,
     "end_time": "2023-02-20T00:12:54.549195",
     "exception": false,
     "start_time": "2023-02-20T00:12:53.400667",
     "status": "completed"
    },
    "tags": []
   },
   "outputs": [
    {
     "data": {
      "image/png": "[encoded data removed]",
      "text/plain": [
       "<Figure size 864x576 with 6 Axes>"
      ]
     },
     "metadata": {
      "needs_background": "light"
     },
     "output_type": "display_data"
    }
   ],
   "source": [
    "df.hist(bins=30, figsize=(12, 8))\n",
    "plt.show()"
   ]
  },
  {
   "cell_type": "markdown",
   "id": "764d135c",
   "metadata": {
    "papermill": {
     "duration": 0.019157,
     "end_time": "2023-02-20T00:12:54.587910",
     "exception": false,
     "start_time": "2023-02-20T00:12:54.568753",
     "status": "completed"
    },
    "tags": []
   },
   "source": [
    "# Process data"
   ]
  },
  {
   "cell_type": "code",
   "execution_count": 7,
   "id": "d06d8e4e",
   "metadata": {
    "execution": {
     "iopub.execute_input": "2023-02-20T00:12:54.630153Z",
     "iopub.status.busy": "2023-02-20T00:12:54.629649Z",
     "iopub.status.idle": "2023-02-20T00:12:54.860391Z",
     "shell.execute_reply": "2023-02-20T00:12:54.858784Z"
    },
    "papermill": {
     "duration": 0.256008,
     "end_time": "2023-02-20T00:12:54.863647",
     "exception": false,
     "start_time": "2023-02-20T00:12:54.607639",
     "status": "completed"
    },
    "tags": []
   },
   "outputs": [],
   "source": [
    "# Split passenger group into separate feature\n",
    "df['Pass_group'] = df.PassengerId.str.split('_').str[0]\n",
    "df.Pass_group = df.Pass_group.astype(float)\n",
    "\n",
    "# Split Lastname into separate feature\n",
    "df['Lastname'] = df.Name.str.split(' ').str[1]\n",
    "\n",
    "# Split Cabin into 3 separate features\n",
    "df[['Deck', 'Cab_num', 'Deck_side']] = df.Cabin.str.split('/', expand=True)\n",
    "df.Cab_num = df.Cab_num.astype(float)"
   ]
  },
  {
   "cell_type": "markdown",
   "id": "0aa22d71",
   "metadata": {
    "papermill": {
     "duration": 0.022389,
     "end_time": "2023-02-20T00:12:54.906339",
     "exception": false,
     "start_time": "2023-02-20T00:12:54.883950",
     "status": "completed"
    },
    "tags": []
   },
   "source": [
    "# Dealing with the outliers"
   ]
  },
  {
   "cell_type": "code",
   "execution_count": 8,
   "id": "55a24151",
   "metadata": {
    "execution": {
     "iopub.execute_input": "2023-02-20T00:12:54.959291Z",
     "iopub.status.busy": "2023-02-20T00:12:54.957844Z",
     "iopub.status.idle": "2023-02-20T00:12:55.981109Z",
     "shell.execute_reply": "2023-02-20T00:12:55.979584Z"
    },
    "papermill": {
     "duration": 1.054414,
     "end_time": "2023-02-20T00:12:55.984497",
     "exception": false,
     "start_time": "2023-02-20T00:12:54.930083",
     "status": "completed"
    },
    "tags": []
   },
   "outputs": [
    {
     "data": {
      "image/png": "[encoded data removed]",
      "text/plain": [
       "<Figure size 1080x504 with 6 Axes>"
      ]
     },
     "metadata": {
      "needs_background": "light"
     },
     "output_type": "display_data"
    }
   ],
   "source": [
    "# Looking for outliers\n",
    "fig, axes = plt.subplots(2, 3, sharey=True, figsize=(15, 7))\n",
    "df.plot.scatter(x='RoomService', y='Age', ax=axes[0, 0])\n",
    "df.plot.scatter(x='FoodCourt', y='Age', ax=axes[0, 1])\n",
    "df.plot.scatter(x='ShoppingMall', y='Age', ax=axes[0, 2])\n",
    "df.plot.scatter(x='Spa', y='Age', ax=axes[1, 0])\n",
    "df.plot.scatter(x='VRDeck', y='Age', ax=axes[1, 1])\n",
    "plt.show()"
   ]
  },
  {
   "cell_type": "code",
   "execution_count": 9,
   "id": "b8be3f46",
   "metadata": {
    "execution": {
     "iopub.execute_input": "2023-02-20T00:12:56.029358Z",
     "iopub.status.busy": "2023-02-20T00:12:56.028873Z",
     "iopub.status.idle": "2023-02-20T00:12:56.043670Z",
     "shell.execute_reply": "2023-02-20T00:12:56.041937Z"
    },
    "papermill": {
     "duration": 0.039322,
     "end_time": "2023-02-20T00:12:56.046425",
     "exception": false,
     "start_time": "2023-02-20T00:12:56.007103",
     "status": "completed"
    },
    "tags": []
   },
   "outputs": [],
   "source": [
    "# Cap RoomService at 9000\n",
    "df.loc[df.RoomService.gt(9000), 'RoomService'] = 9000\n",
    "\n",
    "# Cap FoodCourt at 22000\n",
    "df.loc[df.FoodCourt.gt(22000), 'FoodCourt'] = 22000\n",
    "\n",
    "# Cap ShoppingMall at 11000\n",
    "df.loc[df.ShoppingMall.gt(11000), 'ShoppingMall'] = 11000\n",
    "\n",
    "# Cap Spa at 17000\n",
    "df.loc[df.Spa.gt(17000), 'Spa'] = 17000\n",
    "\n",
    "# Cap VRDeck at 21000\n",
    "df.loc[df.VRDeck.gt(21000), 'VRDeck'] = 21000\n",
    "\n",
    "# Run previous cell again to visualize the result"
   ]
  },
  {
   "cell_type": "markdown",
   "id": "80715569",
   "metadata": {
    "papermill": {
     "duration": 0.019958,
     "end_time": "2023-02-20T00:12:56.086537",
     "exception": false,
     "start_time": "2023-02-20T00:12:56.066579",
     "status": "completed"
    },
    "tags": []
   },
   "source": [
    "# Impute amenities"
   ]
  },
  {
   "cell_type": "code",
   "execution_count": 10,
   "id": "99e50d7c",
   "metadata": {
    "execution": {
     "iopub.execute_input": "2023-02-20T00:12:56.129274Z",
     "iopub.status.busy": "2023-02-20T00:12:56.128271Z",
     "iopub.status.idle": "2023-02-20T00:12:56.148130Z",
     "shell.execute_reply": "2023-02-20T00:12:56.146721Z"
    },
    "papermill": {
     "duration": 0.044912,
     "end_time": "2023-02-20T00:12:56.151104",
     "exception": false,
     "start_time": "2023-02-20T00:12:56.106192",
     "status": "completed"
    },
    "tags": []
   },
   "outputs": [
    {
     "data": {
      "text/plain": [
       "RoomService     0.0\n",
       "FoodCourt       0.0\n",
       "ShoppingMall    0.0\n",
       "Spa             0.0\n",
       "VRDeck          0.0\n",
       "dtype: float64"
      ]
     },
     "execution_count": 10,
     "metadata": {},
     "output_type": "execute_result"
    }
   ],
   "source": [
    "# Check if the passengers in CryoSleep have always zero values for amenities\n",
    "amenities = ['RoomService', 'FoodCourt', 'ShoppingMall', 'Spa', 'VRDeck']\n",
    "\n",
    "df.loc[df.CryoSleep.eq(True), amenities].sum()"
   ]
  },
  {
   "cell_type": "code",
   "execution_count": 11,
   "id": "2daf637b",
   "metadata": {
    "execution": {
     "iopub.execute_input": "2023-02-20T00:12:56.195327Z",
     "iopub.status.busy": "2023-02-20T00:12:56.194860Z",
     "iopub.status.idle": "2023-02-20T00:12:56.227977Z",
     "shell.execute_reply": "2023-02-20T00:12:56.226711Z"
    },
    "papermill": {
     "duration": 0.058872,
     "end_time": "2023-02-20T00:12:56.231036",
     "exception": false,
     "start_time": "2023-02-20T00:12:56.172164",
     "status": "completed"
    },
    "tags": []
   },
   "outputs": [],
   "source": [
    "# For passengers in CryoSleep we impute zero for missing amenities values\n",
    "df.loc[df.CryoSleep.eq(True), amenities] = 0\n",
    "\n",
    "# Where summ of amenities is 0 we also impute 0 for missing values\n",
    "zero_amenities = df[amenities].sum(axis=1).eq(0)\n",
    "df.loc[zero_amenities, amenities] = 0\n",
    "\n",
    "# Impute median for values greater than 0 for each amenities column where passengers are not in CryoSleep\n",
    "for i in amenities: \n",
    "    df.loc[df[i].isna(), i] = df.loc[df[i].gt(0), i].median()"
   ]
  },
  {
   "cell_type": "markdown",
   "id": "8e6fcca6",
   "metadata": {
    "papermill": {
     "duration": 0.019832,
     "end_time": "2023-02-20T00:12:56.271671",
     "exception": false,
     "start_time": "2023-02-20T00:12:56.251839",
     "status": "completed"
    },
    "tags": []
   },
   "source": [
    "# Create Total_expenses"
   ]
  },
  {
   "cell_type": "code",
   "execution_count": 12,
   "id": "7aeb781b",
   "metadata": {
    "execution": {
     "iopub.execute_input": "2023-02-20T00:12:56.314914Z",
     "iopub.status.busy": "2023-02-20T00:12:56.314464Z",
     "iopub.status.idle": "2023-02-20T00:12:56.323591Z",
     "shell.execute_reply": "2023-02-20T00:12:56.322233Z"
    },
    "papermill": {
     "duration": 0.034523,
     "end_time": "2023-02-20T00:12:56.326263",
     "exception": false,
     "start_time": "2023-02-20T00:12:56.291740",
     "status": "completed"
    },
    "tags": []
   },
   "outputs": [],
   "source": [
    "# We will calculate the total expenses the passenger had on amenities\n",
    "df['Total_expenses'] = df[amenities].sum(axis=1)"
   ]
  },
  {
   "cell_type": "markdown",
   "id": "5c6c255a",
   "metadata": {
    "papermill": {
     "duration": 0.020186,
     "end_time": "2023-02-20T00:12:56.367252",
     "exception": false,
     "start_time": "2023-02-20T00:12:56.347066",
     "status": "completed"
    },
    "tags": []
   },
   "source": [
    "# Impute CryoSleep"
   ]
  },
  {
   "cell_type": "code",
   "execution_count": 13,
   "id": "88948829",
   "metadata": {
    "execution": {
     "iopub.execute_input": "2023-02-20T00:12:56.410604Z",
     "iopub.status.busy": "2023-02-20T00:12:56.410079Z",
     "iopub.status.idle": "2023-02-20T00:12:56.419790Z",
     "shell.execute_reply": "2023-02-20T00:12:56.418471Z"
    },
    "papermill": {
     "duration": 0.034442,
     "end_time": "2023-02-20T00:12:56.422359",
     "exception": false,
     "start_time": "2023-02-20T00:12:56.387917",
     "status": "completed"
    },
    "tags": []
   },
   "outputs": [],
   "source": [
    "# Impute CryoSleep = False where Total_expenses are greater than 0\n",
    "df.loc[(df.CryoSleep.isna() & df.Total_expenses.gt(0)), 'CryoSleep'] = False"
   ]
  },
  {
   "cell_type": "markdown",
   "id": "495d7537",
   "metadata": {
    "papermill": {
     "duration": 0.021457,
     "end_time": "2023-02-20T00:12:56.464781",
     "exception": false,
     "start_time": "2023-02-20T00:12:56.443324",
     "status": "completed"
    },
    "tags": []
   },
   "source": [
    "# Impute VIP"
   ]
  },
  {
   "cell_type": "code",
   "execution_count": 14,
   "id": "a1b9e494",
   "metadata": {
    "execution": {
     "iopub.execute_input": "2023-02-20T00:12:56.510414Z",
     "iopub.status.busy": "2023-02-20T00:12:56.509929Z",
     "iopub.status.idle": "2023-02-20T00:12:56.522803Z",
     "shell.execute_reply": "2023-02-20T00:12:56.521644Z"
    },
    "papermill": {
     "duration": 0.039123,
     "end_time": "2023-02-20T00:12:56.525169",
     "exception": false,
     "start_time": "2023-02-20T00:12:56.486046",
     "status": "completed"
    },
    "tags": []
   },
   "outputs": [
    {
     "data": {
      "text/plain": [
       "VIP\n",
       "False     0.0\n",
       "True     18.0\n",
       "Name: Age, dtype: float64"
      ]
     },
     "execution_count": 14,
     "metadata": {},
     "output_type": "execute_result"
    }
   ],
   "source": [
    "# Check the minimum Age for passengers with VIP status\n",
    "df.groupby('VIP').Age.min()"
   ]
  },
  {
   "cell_type": "markdown",
   "id": "f771b606",
   "metadata": {
    "papermill": {
     "duration": 0.020455,
     "end_time": "2023-02-20T00:12:56.566170",
     "exception": false,
     "start_time": "2023-02-20T00:12:56.545715",
     "status": "completed"
    },
    "tags": []
   },
   "source": [
    "Underage passengers don't have VIP status"
   ]
  },
  {
   "cell_type": "code",
   "execution_count": 15,
   "id": "e6e24d59",
   "metadata": {
    "execution": {
     "iopub.execute_input": "2023-02-20T00:12:56.611116Z",
     "iopub.status.busy": "2023-02-20T00:12:56.610645Z",
     "iopub.status.idle": "2023-02-20T00:12:56.627950Z",
     "shell.execute_reply": "2023-02-20T00:12:56.626484Z"
    },
    "papermill": {
     "duration": 0.043569,
     "end_time": "2023-02-20T00:12:56.630656",
     "exception": false,
     "start_time": "2023-02-20T00:12:56.587087",
     "status": "completed"
    },
    "tags": []
   },
   "outputs": [
    {
     "data": {
      "text/plain": [
       "HomePlanet  Destination    VIP  \n",
       "Earth       55 Cancri e    False     956\n",
       "            PSO J318.5-22  False    1043\n",
       "            TRAPPIST-1e    False    4568\n",
       "Europa      55 Cancri e    False    1195\n",
       "                           True       83\n",
       "            PSO J318.5-22  False      16\n",
       "                           True       13\n",
       "            TRAPPIST-1e    False    1618\n",
       "                           True       78\n",
       "Mars        55 Cancri e    False     290\n",
       "            PSO J318.5-22  False      55\n",
       "                           True        9\n",
       "            TRAPPIST-1e    False    2122\n",
       "                           True       81\n",
       "Name: VIP, dtype: int64"
      ]
     },
     "execution_count": 15,
     "metadata": {},
     "output_type": "execute_result"
    }
   ],
   "source": [
    "# Check VIPs by HomePlanet and Destination\n",
    "df.groupby(['HomePlanet', 'Destination']).VIP.value_counts()"
   ]
  },
  {
   "cell_type": "markdown",
   "id": "5830b226",
   "metadata": {
    "papermill": {
     "duration": 0.020262,
     "end_time": "2023-02-20T00:12:56.671856",
     "exception": false,
     "start_time": "2023-02-20T00:12:56.651594",
     "status": "completed"
    },
    "tags": []
   },
   "source": [
    "- There are a lot of passengers from Earth, but no VIPs\n",
    "- There are no VIPs between passengers from Mars that goes to Cancri \n",
    "- VIPs going to Cancri are just from Europa"
   ]
  },
  {
   "cell_type": "code",
   "execution_count": 16,
   "id": "1e529a2d",
   "metadata": {
    "execution": {
     "iopub.execute_input": "2023-02-20T00:12:56.715341Z",
     "iopub.status.busy": "2023-02-20T00:12:56.714889Z",
     "iopub.status.idle": "2023-02-20T00:12:56.723668Z",
     "shell.execute_reply": "2023-02-20T00:12:56.722484Z"
    },
    "papermill": {
     "duration": 0.033178,
     "end_time": "2023-02-20T00:12:56.725857",
     "exception": false,
     "start_time": "2023-02-20T00:12:56.692679",
     "status": "completed"
    },
    "tags": []
   },
   "outputs": [],
   "source": [
    "# Impute VIP = False for underage passengers\n",
    "df.loc[(df.VIP.isna() & (df.Age < 18)), 'VIP'] = False"
   ]
  },
  {
   "cell_type": "code",
   "execution_count": 17,
   "id": "43591f25",
   "metadata": {
    "execution": {
     "iopub.execute_input": "2023-02-20T00:12:56.770840Z",
     "iopub.status.busy": "2023-02-20T00:12:56.769850Z",
     "iopub.status.idle": "2023-02-20T00:12:56.786294Z",
     "shell.execute_reply": "2023-02-20T00:12:56.784853Z"
    },
    "papermill": {
     "duration": 0.041783,
     "end_time": "2023-02-20T00:12:56.789435",
     "exception": false,
     "start_time": "2023-02-20T00:12:56.747652",
     "status": "completed"
    },
    "tags": []
   },
   "outputs": [],
   "source": [
    "# Impute VIP = False for passengers from Earth\n",
    "df.loc[(df.VIP.isna() & (df.HomePlanet == 'Earth')), 'VIP'] = False\n",
    "\n",
    "# Impute VIP = False for passengers from Mars that goes to Cancri\n",
    "df.loc[(df.VIP.isna() \n",
    "        & (df.HomePlanet.eq('Mars'))\n",
    "        & (df.Destination.eq('55 Cancri e'))), 'VIP'] = False"
   ]
  },
  {
   "cell_type": "code",
   "execution_count": 18,
   "id": "717d277d",
   "metadata": {
    "execution": {
     "iopub.execute_input": "2023-02-20T00:12:56.833848Z",
     "iopub.status.busy": "2023-02-20T00:12:56.833339Z",
     "iopub.status.idle": "2023-02-20T00:12:56.850111Z",
     "shell.execute_reply": "2023-02-20T00:12:56.848844Z"
    },
    "papermill": {
     "duration": 0.042492,
     "end_time": "2023-02-20T00:12:56.853152",
     "exception": false,
     "start_time": "2023-02-20T00:12:56.810660",
     "status": "completed"
    },
    "tags": []
   },
   "outputs": [
    {
     "data": {
      "text/plain": [
       "VIP    CryoSleep  Deck\n",
       "False  False      F       3309\n",
       "                  G       1701\n",
       "                  E       1023\n",
       "                  C        561\n",
       "                  D        500\n",
       "                  B        464\n",
       "                  A        204\n",
       "                  T         10\n",
       "       True       G       2018\n",
       "                  F        837\n",
       "                  B        581\n",
       "                  C        442\n",
       "                  E        249\n",
       "                  D        164\n",
       "                  A         92\n",
       "True   False      B         48\n",
       "                  C         45\n",
       "                  F         41\n",
       "                  A         40\n",
       "                  D         38\n",
       "                  E         26\n",
       "       True       B         10\n",
       "                  C         10\n",
       "                  A          5\n",
       "                  D          3\n",
       "Name: Deck, dtype: int64"
      ]
     },
     "execution_count": 18,
     "metadata": {},
     "output_type": "execute_result"
    }
   ],
   "source": [
    "# Check VIPs and CryoSleep by Deck\n",
    "df.groupby(['VIP', 'CryoSleep']).Deck.value_counts()"
   ]
  },
  {
   "cell_type": "markdown",
   "id": "1b846039",
   "metadata": {
    "papermill": {
     "duration": 0.023117,
     "end_time": "2023-02-20T00:12:56.898090",
     "exception": false,
     "start_time": "2023-02-20T00:12:56.874973",
     "status": "completed"
    },
    "tags": []
   },
   "source": [
    "- There are no VIPs on decks G and T\n",
    "- VIPs in CryoSleep are just on the decks A to D"
   ]
  },
  {
   "cell_type": "code",
   "execution_count": 19,
   "id": "77c76171",
   "metadata": {
    "execution": {
     "iopub.execute_input": "2023-02-20T00:12:56.942985Z",
     "iopub.status.busy": "2023-02-20T00:12:56.942261Z",
     "iopub.status.idle": "2023-02-20T00:12:56.957200Z",
     "shell.execute_reply": "2023-02-20T00:12:56.955867Z"
    },
    "papermill": {
     "duration": 0.040717,
     "end_time": "2023-02-20T00:12:56.960348",
     "exception": false,
     "start_time": "2023-02-20T00:12:56.919631",
     "status": "completed"
    },
    "tags": []
   },
   "outputs": [],
   "source": [
    "# Impute VIP = False for passengers on deck G and T\n",
    "df.loc[(df.VIP.isna() \n",
    "        & (df.Deck.isin(['G', 'T']))), 'VIP'] = False\n",
    "\n",
    "# Impute VIP = True for passengers that are not on decks A to D and not in CryoSleep\n",
    "df.loc[df.VIP.isna() \n",
    "       & df.CryoSleep.eq(False) \n",
    "       & ~df.Deck.isin(['A', 'B', 'C', 'D']), 'VIP'] = True"
   ]
  },
  {
   "cell_type": "markdown",
   "id": "745e8f43",
   "metadata": {
    "papermill": {
     "duration": 0.021255,
     "end_time": "2023-02-20T00:12:57.003178",
     "exception": false,
     "start_time": "2023-02-20T00:12:56.981923",
     "status": "completed"
    },
    "tags": []
   },
   "source": [
    "# Impute HomePlanet"
   ]
  },
  {
   "cell_type": "code",
   "execution_count": 20,
   "id": "e273834a",
   "metadata": {
    "execution": {
     "iopub.execute_input": "2023-02-20T00:12:57.048697Z",
     "iopub.status.busy": "2023-02-20T00:12:57.048205Z",
     "iopub.status.idle": "2023-02-20T00:12:57.059642Z",
     "shell.execute_reply": "2023-02-20T00:12:57.058121Z"
    },
    "papermill": {
     "duration": 0.037102,
     "end_time": "2023-02-20T00:12:57.062008",
     "exception": false,
     "start_time": "2023-02-20T00:12:57.024906",
     "status": "completed"
    },
    "tags": []
   },
   "outputs": [],
   "source": [
    "# From previous analysis VIPs going to Cancri are just from Europa\n",
    "df.loc[(df.HomePlanet.isna() \n",
    "        & df.VIP.eq(True) \n",
    "        & df.Destination.eq('55 Cancri e')), 'HomePlanet'] = 'Europa'"
   ]
  },
  {
   "cell_type": "code",
   "execution_count": 21,
   "id": "cc5ed27b",
   "metadata": {
    "execution": {
     "iopub.execute_input": "2023-02-20T00:12:57.108241Z",
     "iopub.status.busy": "2023-02-20T00:12:57.107767Z",
     "iopub.status.idle": "2023-02-20T00:12:57.123645Z",
     "shell.execute_reply": "2023-02-20T00:12:57.122138Z"
    },
    "papermill": {
     "duration": 0.042191,
     "end_time": "2023-02-20T00:12:57.126245",
     "exception": false,
     "start_time": "2023-02-20T00:12:57.084054",
     "status": "completed"
    },
    "tags": []
   },
   "outputs": [
    {
     "data": {
      "text/plain": [
       "0"
      ]
     },
     "execution_count": 21,
     "metadata": {},
     "output_type": "execute_result"
    }
   ],
   "source": [
    "# Check if all the passengers from the same group have departed from the same HomePlanet\n",
    "df.groupby('Pass_group').HomePlanet.nunique().gt(1).sum()"
   ]
  },
  {
   "cell_type": "code",
   "execution_count": 22,
   "id": "9160ad32",
   "metadata": {
    "execution": {
     "iopub.execute_input": "2023-02-20T00:12:57.171941Z",
     "iopub.status.busy": "2023-02-20T00:12:57.171463Z",
     "iopub.status.idle": "2023-02-20T00:12:57.206738Z",
     "shell.execute_reply": "2023-02-20T00:12:57.205488Z"
    },
    "papermill": {
     "duration": 0.061789,
     "end_time": "2023-02-20T00:12:57.209633",
     "exception": false,
     "start_time": "2023-02-20T00:12:57.147844",
     "status": "completed"
    },
    "tags": []
   },
   "outputs": [],
   "source": [
    "# Create a Pass_group-HomePlanet dictionary\n",
    "present_values = ~df.Pass_group.isna() & ~df.HomePlanet.isna()\n",
    "group_home_map = (df.loc[present_values, ['Pass_group', 'HomePlanet']]\n",
    "            .set_index('Pass_group').to_dict()['HomePlanet'])\n",
    "\n",
    "# Impute HomePlanet from dictionary\n",
    "df.loc[df.HomePlanet.isna(), 'HomePlanet'] = df.Pass_group.map(group_home_map)"
   ]
  },
  {
   "cell_type": "code",
   "execution_count": 23,
   "id": "c4c7faf3",
   "metadata": {
    "execution": {
     "iopub.execute_input": "2023-02-20T00:12:57.255145Z",
     "iopub.status.busy": "2023-02-20T00:12:57.254371Z",
     "iopub.status.idle": "2023-02-20T00:12:57.268175Z",
     "shell.execute_reply": "2023-02-20T00:12:57.267038Z"
    },
    "papermill": {
     "duration": 0.039103,
     "end_time": "2023-02-20T00:12:57.270538",
     "exception": false,
     "start_time": "2023-02-20T00:12:57.231435",
     "status": "completed"
    },
    "tags": []
   },
   "outputs": [
    {
     "data": {
      "text/plain": [
       "HomePlanet  Deck\n",
       "Earth       G       3731\n",
       "            F       2437\n",
       "            E        589\n",
       "Europa      B       1137\n",
       "            C       1096\n",
       "            A        352\n",
       "            D        302\n",
       "            E        199\n",
       "            T         10\n",
       "            F          1\n",
       "Mars        F       1742\n",
       "            E        515\n",
       "            D        410\n",
       "Name: Deck, dtype: int64"
      ]
     },
     "execution_count": 23,
     "metadata": {},
     "output_type": "execute_result"
    }
   ],
   "source": [
    "# Analyse HomePlanet-Deck distribution\n",
    "df.groupby('HomePlanet').Deck.value_counts()"
   ]
  },
  {
   "cell_type": "markdown",
   "id": "306beb22",
   "metadata": {
    "papermill": {
     "duration": 0.020492,
     "end_time": "2023-02-20T00:12:57.312178",
     "exception": false,
     "start_time": "2023-02-20T00:12:57.291686",
     "status": "completed"
    },
    "tags": []
   },
   "source": [
    "- Decks T, A, B, C are just from Europa\n",
    "- Deck G is just from Earth\n"
   ]
  },
  {
   "cell_type": "code",
   "execution_count": 24,
   "id": "72cdfdb8",
   "metadata": {
    "execution": {
     "iopub.execute_input": "2023-02-20T00:12:57.356758Z",
     "iopub.status.busy": "2023-02-20T00:12:57.355987Z",
     "iopub.status.idle": "2023-02-20T00:12:57.372103Z",
     "shell.execute_reply": "2023-02-20T00:12:57.370633Z"
    },
    "papermill": {
     "duration": 0.042093,
     "end_time": "2023-02-20T00:12:57.375309",
     "exception": false,
     "start_time": "2023-02-20T00:12:57.333216",
     "status": "completed"
    },
    "tags": []
   },
   "outputs": [],
   "source": [
    "# Impute HomePlanet based on previous distribution analysis\n",
    "df.loc[(df.HomePlanet.isna() \n",
    "        & df.Deck.isin(['T', 'A', 'B', 'C',])), 'HomePlanet'] = 'Europa'\n",
    "\n",
    "df.loc[(df.HomePlanet.isna() & df.Deck.eq('G')), 'HomePlanet'] = 'Earth'\n",
    "\n",
    "df.loc[(df.HomePlanet.isna() & df.Deck.eq('G')), 'HomePlanet'] = 'Earth'"
   ]
  },
  {
   "cell_type": "code",
   "execution_count": 25,
   "id": "4cc37245",
   "metadata": {
    "execution": {
     "iopub.execute_input": "2023-02-20T00:12:57.420857Z",
     "iopub.status.busy": "2023-02-20T00:12:57.420334Z",
     "iopub.status.idle": "2023-02-20T00:12:57.438478Z",
     "shell.execute_reply": "2023-02-20T00:12:57.437298Z"
    },
    "papermill": {
     "duration": 0.044217,
     "end_time": "2023-02-20T00:12:57.441052",
     "exception": false,
     "start_time": "2023-02-20T00:12:57.396835",
     "status": "completed"
    },
    "tags": []
   },
   "outputs": [
    {
     "data": {
      "text/plain": [
       "1"
      ]
     },
     "execution_count": 25,
     "metadata": {},
     "output_type": "execute_result"
    }
   ],
   "source": [
    "# Check if all the passengers with the same Lastname have departed from the same HomePlanet\n",
    "df.groupby('Lastname').HomePlanet.nunique().gt(1).sum()"
   ]
  },
  {
   "cell_type": "code",
   "execution_count": 26,
   "id": "0e19b408",
   "metadata": {
    "execution": {
     "iopub.execute_input": "2023-02-20T00:12:57.486538Z",
     "iopub.status.busy": "2023-02-20T00:12:57.485063Z",
     "iopub.status.idle": "2023-02-20T00:12:57.520056Z",
     "shell.execute_reply": "2023-02-20T00:12:57.518888Z"
    },
    "papermill": {
     "duration": 0.06078,
     "end_time": "2023-02-20T00:12:57.523106",
     "exception": false,
     "start_time": "2023-02-20T00:12:57.462326",
     "status": "completed"
    },
    "tags": []
   },
   "outputs": [],
   "source": [
    "# Create a Lastname-HomePlanet dictionary\n",
    "present_values = ~df.Lastname.isna() & ~df.HomePlanet.isna()\n",
    "lastname_home_map = (df.loc[present_values, ['Lastname', 'HomePlanet']]\n",
    "            .set_index('Lastname').to_dict()['HomePlanet'])\n",
    "\n",
    "# Impute HomePlanet from dictionary\n",
    "df.loc[df.HomePlanet.isna(), 'HomePlanet'] = df.Lastname.map(lastname_home_map)"
   ]
  },
  {
   "cell_type": "markdown",
   "id": "7306855b",
   "metadata": {
    "papermill": {
     "duration": 0.02096,
     "end_time": "2023-02-20T00:12:57.566592",
     "exception": false,
     "start_time": "2023-02-20T00:12:57.545632",
     "status": "completed"
    },
    "tags": []
   },
   "source": [
    "# Impute Age"
   ]
  },
  {
   "cell_type": "code",
   "execution_count": 27,
   "id": "2004be5c",
   "metadata": {
    "execution": {
     "iopub.execute_input": "2023-02-20T00:12:57.612019Z",
     "iopub.status.busy": "2023-02-20T00:12:57.611069Z",
     "iopub.status.idle": "2023-02-20T00:12:57.637254Z",
     "shell.execute_reply": "2023-02-20T00:12:57.635751Z"
    },
    "papermill": {
     "duration": 0.053046,
     "end_time": "2023-02-20T00:12:57.640882",
     "exception": false,
     "start_time": "2023-02-20T00:12:57.587836",
     "status": "completed"
    },
    "tags": []
   },
   "outputs": [],
   "source": [
    "# Impute median Age for people with VIP status\n",
    "df.loc[((df.VIP == True) & df.Age.isna()), 'Age'] = df.loc[(df.VIP == True), 'Age'].median()\n",
    "\n",
    "# Impute median Age for people that have expenses\n",
    "df.loc[(df.Age.isna() \n",
    "        & df.Total_expenses.gt(0)), 'Age'] = df.loc[df.Total_expenses.gt(0), 'Age'].median()\n",
    "\n",
    "# Impute median Age for people with no expenses and not in CryoSleep\n",
    "df.loc[(df.Age.isna() \n",
    "        & df.Total_expenses.eq(0)\n",
    "        & df.CryoSleep.eq(False)), 'Age'] = df.loc[(df.Total_expenses.eq(0) \n",
    "                                                    & df.CryoSleep.eq(False)), 'Age'].median()\n",
    "\n",
    "# Impute an overall median Age for people not included in previous groups\n",
    "df.Age.fillna(df.Age.median(), inplace=True)"
   ]
  },
  {
   "cell_type": "markdown",
   "id": "d5dcb88a",
   "metadata": {
    "papermill": {
     "duration": 0.020949,
     "end_time": "2023-02-20T00:12:57.684824",
     "exception": false,
     "start_time": "2023-02-20T00:12:57.663875",
     "status": "completed"
    },
    "tags": []
   },
   "source": [
    "# Impute Cab_num"
   ]
  },
  {
   "cell_type": "code",
   "execution_count": 28,
   "id": "b61b5ecf",
   "metadata": {
    "execution": {
     "iopub.execute_input": "2023-02-20T00:12:57.729163Z",
     "iopub.status.busy": "2023-02-20T00:12:57.728690Z",
     "iopub.status.idle": "2023-02-20T00:12:57.736212Z",
     "shell.execute_reply": "2023-02-20T00:12:57.735025Z"
    },
    "papermill": {
     "duration": 0.032523,
     "end_time": "2023-02-20T00:12:57.738510",
     "exception": false,
     "start_time": "2023-02-20T00:12:57.705987",
     "status": "completed"
    },
    "tags": []
   },
   "outputs": [],
   "source": [
    "df.Cab_num.fillna(df.Cab_num.median(), inplace=True)"
   ]
  },
  {
   "cell_type": "markdown",
   "id": "c787271a",
   "metadata": {
    "papermill": {
     "duration": 0.020558,
     "end_time": "2023-02-20T00:12:57.780376",
     "exception": false,
     "start_time": "2023-02-20T00:12:57.759818",
     "status": "completed"
    },
    "tags": []
   },
   "source": [
    "# Create Group_members"
   ]
  },
  {
   "cell_type": "code",
   "execution_count": 29,
   "id": "e7b01c00",
   "metadata": {
    "execution": {
     "iopub.execute_input": "2023-02-20T00:12:57.824994Z",
     "iopub.status.busy": "2023-02-20T00:12:57.824493Z",
     "iopub.status.idle": "2023-02-20T00:12:57.848257Z",
     "shell.execute_reply": "2023-02-20T00:12:57.846748Z"
    },
    "papermill": {
     "duration": 0.05001,
     "end_time": "2023-02-20T00:12:57.851329",
     "exception": false,
     "start_time": "2023-02-20T00:12:57.801319",
     "status": "completed"
    },
    "tags": []
   },
   "outputs": [],
   "source": [
    "# We count the number of passengers in each group\n",
    "Group_members = df.Pass_group.value_counts().to_dict()\n",
    "df['Group_members'] = df.Pass_group.map(Group_members)"
   ]
  },
  {
   "cell_type": "markdown",
   "id": "965e53aa",
   "metadata": {
    "papermill": {
     "duration": 0.020587,
     "end_time": "2023-02-20T00:12:57.893145",
     "exception": false,
     "start_time": "2023-02-20T00:12:57.872558",
     "status": "completed"
    },
    "tags": []
   },
   "source": [
    "# Create Cabin_members"
   ]
  },
  {
   "cell_type": "code",
   "execution_count": 30,
   "id": "7726a5b9",
   "metadata": {
    "execution": {
     "iopub.execute_input": "2023-02-20T00:12:57.948335Z",
     "iopub.status.busy": "2023-02-20T00:12:57.947363Z",
     "iopub.status.idle": "2023-02-20T00:12:57.983537Z",
     "shell.execute_reply": "2023-02-20T00:12:57.982406Z"
    },
    "papermill": {
     "duration": 0.067456,
     "end_time": "2023-02-20T00:12:57.987818",
     "exception": false,
     "start_time": "2023-02-20T00:12:57.920362",
     "status": "completed"
    },
    "tags": []
   },
   "outputs": [],
   "source": [
    "# We count the number of members in each cabin\n",
    "Cabin_members = df.Cabin.value_counts().to_dict()\n",
    "df['Cabin_members'] = df.Cabin.map(Cabin_members)\n",
    "\n",
    "# Impute mean for missing cabin\n",
    "df.Cabin_members.fillna(df.Cabin_members.mean(), inplace=True)"
   ]
  },
  {
   "cell_type": "markdown",
   "id": "37c1384b",
   "metadata": {
    "papermill": {
     "duration": 0.021539,
     "end_time": "2023-02-20T00:12:58.036290",
     "exception": false,
     "start_time": "2023-02-20T00:12:58.014751",
     "status": "completed"
    },
    "tags": []
   },
   "source": [
    "# Create Deck_transp_ratio"
   ]
  },
  {
   "cell_type": "code",
   "execution_count": 31,
   "id": "1ef8b60f",
   "metadata": {
    "execution": {
     "iopub.execute_input": "2023-02-20T00:12:58.080698Z",
     "iopub.status.busy": "2023-02-20T00:12:58.080216Z",
     "iopub.status.idle": "2023-02-20T00:12:58.114681Z",
     "shell.execute_reply": "2023-02-20T00:12:58.113445Z"
    },
    "papermill": {
     "duration": 0.060176,
     "end_time": "2023-02-20T00:12:58.117689",
     "exception": false,
     "start_time": "2023-02-20T00:12:58.057513",
     "status": "completed"
    },
    "tags": []
   },
   "outputs": [],
   "source": [
    "# Create full data frame for analysis\n",
    "X = df[:X_max_index]\n",
    "test_df = df[X_max_index:]\n",
    "full_df = pd.concat([X, y], axis=1).copy()\n",
    "\n",
    "# Total passengers by Deck\n",
    "deck_total_pass = full_df.groupby('Deck').Deck.count()\n",
    "\n",
    "# Total Transported by Deck\n",
    "deck_total_transported = full_df.groupby('Deck').Transported.sum()\n",
    "\n",
    "# Dictionary with Deck_transp_ratio\n",
    "Deck_transp_ratio = (deck_total_transported / deck_total_pass).to_dict()\n",
    "\n",
    "# Create Deck_transp_ratio\n",
    "df['Deck_transp_ratio'] = df.Deck.map(Deck_transp_ratio)\n",
    "df.Deck_transp_ratio.fillna(df.Deck_transp_ratio.mean(), inplace=True)"
   ]
  },
  {
   "cell_type": "markdown",
   "id": "247d6262",
   "metadata": {
    "papermill": {
     "duration": 0.021639,
     "end_time": "2023-02-20T00:12:58.161425",
     "exception": false,
     "start_time": "2023-02-20T00:12:58.139786",
     "status": "completed"
    },
    "tags": []
   },
   "source": [
    "# Create Deck_side_transp_ratio"
   ]
  },
  {
   "cell_type": "code",
   "execution_count": 32,
   "id": "c38e6a5b",
   "metadata": {
    "execution": {
     "iopub.execute_input": "2023-02-20T00:12:58.208915Z",
     "iopub.status.busy": "2023-02-20T00:12:58.207652Z",
     "iopub.status.idle": "2023-02-20T00:12:58.223415Z",
     "shell.execute_reply": "2023-02-20T00:12:58.222331Z"
    },
    "papermill": {
     "duration": 0.042902,
     "end_time": "2023-02-20T00:12:58.226276",
     "exception": false,
     "start_time": "2023-02-20T00:12:58.183374",
     "status": "completed"
    },
    "tags": []
   },
   "outputs": [],
   "source": [
    "# Total passengers by Deck_side\n",
    "deck_side_total = full_df.groupby('Deck_side').Deck.count()\n",
    "\n",
    "# Total Transported by Deck_side\n",
    "deck_side_transported = full_df.groupby('Deck_side').Transported.sum()\n",
    "\n",
    "# Dictionary with Deck_side_transp_ratio\n",
    "Deck_side_transp_ratio = (deck_side_transported / deck_side_total).to_dict()\n",
    "\n",
    "# Create Deck_side_transp_ratio\n",
    "df['Deck_side_transp_ratio'] = df.Deck_side.map(Deck_side_transp_ratio)\n",
    "df.Deck_side_transp_ratio.fillna(df.Deck_side_transp_ratio.mean(), inplace=True)"
   ]
  },
  {
   "cell_type": "code",
   "execution_count": 33,
   "id": "c08ecd54",
   "metadata": {
    "execution": {
     "iopub.execute_input": "2023-02-20T00:12:58.272749Z",
     "iopub.status.busy": "2023-02-20T00:12:58.271459Z",
     "iopub.status.idle": "2023-02-20T00:12:58.283115Z",
     "shell.execute_reply": "2023-02-20T00:12:58.281891Z"
    },
    "papermill": {
     "duration": 0.038343,
     "end_time": "2023-02-20T00:12:58.286179",
     "exception": false,
     "start_time": "2023-02-20T00:12:58.247836",
     "status": "completed"
    },
    "tags": []
   },
   "outputs": [],
   "source": [
    "# Drop further unused columns\n",
    "col_drop = ['PassengerId', 'Cabin', 'Name', 'Lastname']\n",
    "df = df.drop(col_drop, axis=1)"
   ]
  },
  {
   "cell_type": "markdown",
   "id": "6b03a6fb",
   "metadata": {
    "papermill": {
     "duration": 0.021153,
     "end_time": "2023-02-20T00:12:58.329307",
     "exception": false,
     "start_time": "2023-02-20T00:12:58.308154",
     "status": "completed"
    },
    "tags": []
   },
   "source": [
    "# Impute and encode categorical features"
   ]
  },
  {
   "cell_type": "code",
   "execution_count": 34,
   "id": "e95177b0",
   "metadata": {
    "execution": {
     "iopub.execute_input": "2023-02-20T00:12:58.374609Z",
     "iopub.status.busy": "2023-02-20T00:12:58.374080Z",
     "iopub.status.idle": "2023-02-20T00:12:58.411912Z",
     "shell.execute_reply": "2023-02-20T00:12:58.410901Z"
    },
    "papermill": {
     "duration": 0.063623,
     "end_time": "2023-02-20T00:12:58.414796",
     "exception": false,
     "start_time": "2023-02-20T00:12:58.351173",
     "status": "completed"
    },
    "tags": []
   },
   "outputs": [],
   "source": [
    "# List of categorical columns\n",
    "categ_cols = list(df.select_dtypes(['object', 'category']).columns)\n",
    "\n",
    "# Impute categoricals with most frequent value\n",
    "cat_imputer = SimpleImputer(strategy='constant', fill_value='Missing')\n",
    "\n",
    "df_cat = pd.DataFrame(cat_imputer.fit_transform(df[categ_cols]), \n",
    "                      columns=df[categ_cols].columns)\n",
    "\n",
    "# Encode categoricals\n",
    "df_cat = pd.get_dummies(df_cat)"
   ]
  },
  {
   "cell_type": "markdown",
   "id": "58796976",
   "metadata": {
    "papermill": {
     "duration": 0.021441,
     "end_time": "2023-02-20T00:12:58.457375",
     "exception": false,
     "start_time": "2023-02-20T00:12:58.435934",
     "status": "completed"
    },
    "tags": []
   },
   "source": [
    "# Impute numericals"
   ]
  },
  {
   "cell_type": "code",
   "execution_count": 35,
   "id": "e2af03f4",
   "metadata": {
    "execution": {
     "iopub.execute_input": "2023-02-20T00:12:58.503921Z",
     "iopub.status.busy": "2023-02-20T00:12:58.502260Z",
     "iopub.status.idle": "2023-02-20T00:13:05.967456Z",
     "shell.execute_reply": "2023-02-20T00:13:05.965525Z"
    },
    "papermill": {
     "duration": 7.493555,
     "end_time": "2023-02-20T00:13:05.972292",
     "exception": false,
     "start_time": "2023-02-20T00:12:58.478737",
     "status": "completed"
    },
    "tags": []
   },
   "outputs": [],
   "source": [
    "# List of numerical columns\n",
    "num_cols = list(df.select_dtypes(['int64', 'float64']).columns)\n",
    "\n",
    "# Concatenate with encoded categorical columns\n",
    "df = pd.concat([df_cat, df[num_cols]], axis=1)\n",
    "\n",
    "# Impute numericals\n",
    "it_imp = IterativeImputer()\n",
    "df = pd.DataFrame(it_imp.fit_transform(df), columns=df.columns)"
   ]
  },
  {
   "cell_type": "markdown",
   "id": "9a40d8c3",
   "metadata": {
    "papermill": {
     "duration": 0.020457,
     "end_time": "2023-02-20T00:13:06.058425",
     "exception": false,
     "start_time": "2023-02-20T00:13:06.037968",
     "status": "completed"
    },
    "tags": []
   },
   "source": [
    "# Feature engineering"
   ]
  },
  {
   "cell_type": "code",
   "execution_count": 36,
   "id": "535efff1",
   "metadata": {
    "execution": {
     "iopub.execute_input": "2023-02-20T00:13:06.102418Z",
     "iopub.status.busy": "2023-02-20T00:13:06.101982Z",
     "iopub.status.idle": "2023-02-20T00:13:06.115405Z",
     "shell.execute_reply": "2023-02-20T00:13:06.114484Z"
    },
    "papermill": {
     "duration": 0.038562,
     "end_time": "2023-02-20T00:13:06.117850",
     "exception": false,
     "start_time": "2023-02-20T00:13:06.079288",
     "status": "completed"
    },
    "tags": []
   },
   "outputs": [],
   "source": [
    "# Create a full data frame for analysis\n",
    "X = df[:X_max_index]\n",
    "full_df = pd.concat([X, y], axis=1)\n",
    "full_df['Non_zero_expenses'] = full_df.loc[full_df.Total_expenses.gt(0), 'Total_expenses']"
   ]
  },
  {
   "cell_type": "code",
   "execution_count": 37,
   "id": "4e09c69e",
   "metadata": {
    "execution": {
     "iopub.execute_input": "2023-02-20T00:13:06.163309Z",
     "iopub.status.busy": "2023-02-20T00:13:06.162474Z",
     "iopub.status.idle": "2023-02-20T00:13:06.170329Z",
     "shell.execute_reply": "2023-02-20T00:13:06.169188Z"
    },
    "papermill": {
     "duration": 0.033543,
     "end_time": "2023-02-20T00:13:06.173014",
     "exception": false,
     "start_time": "2023-02-20T00:13:06.139471",
     "status": "completed"
    },
    "tags": []
   },
   "outputs": [],
   "source": [
    "# Function for kde plotting\n",
    "def transported_chance_by(feature, xticks=None, xlim=None):\n",
    "    transported = full_df[full_df.Transported == 1]\n",
    "    not_transported = full_df[full_df.Transported == 0]\n",
    "\n",
    "    plt.figure(figsize=(10, 5))\n",
    "\n",
    "    transported[feature].plot(kind='kde', label='transported')\n",
    "    not_transported[feature].plot(kind='kde', label='not_transported')\n",
    "    \n",
    "    plt.xlim(xlim)\n",
    "    plt.xticks(xticks)\n",
    "    plt.legend()\n",
    "    plt.grid()\n",
    "    plt.xlabel(feature)\n",
    "    plt.show()"
   ]
  },
  {
   "cell_type": "markdown",
   "id": "2ebaa2da",
   "metadata": {
    "papermill": {
     "duration": 0.021073,
     "end_time": "2023-02-20T00:13:06.215056",
     "exception": false,
     "start_time": "2023-02-20T00:13:06.193983",
     "status": "completed"
    },
    "tags": []
   },
   "source": [
    "# Create Age_group feature"
   ]
  },
  {
   "cell_type": "code",
   "execution_count": 38,
   "id": "4b3e6dd6",
   "metadata": {
    "execution": {
     "iopub.execute_input": "2023-02-20T00:13:06.261255Z",
     "iopub.status.busy": "2023-02-20T00:13:06.260497Z",
     "iopub.status.idle": "2023-02-20T00:13:06.650053Z",
     "shell.execute_reply": "2023-02-20T00:13:06.648466Z"
    },
    "papermill": {
     "duration": 0.415797,
     "end_time": "2023-02-20T00:13:06.653085",
     "exception": false,
     "start_time": "2023-02-20T00:13:06.237288",
     "status": "completed"
    },
    "tags": []
   },
   "outputs": [
    {
     "data": {
      "image/png": "[encoded data removed]",
      "text/plain": [
       "<Figure size 720x360 with 1 Axes>"
      ]
     },
     "metadata": {
      "needs_background": "light"
     },
     "output_type": "display_data"
    }
   ],
   "source": [
    "# Transported by Age\n",
    "transported_chance_by('Age', np.arange(0, 81, 5), (0, 80))"
   ]
  },
  {
   "cell_type": "markdown",
   "id": "56905710",
   "metadata": {
    "papermill": {
     "duration": 0.021319,
     "end_time": "2023-02-20T00:13:06.696816",
     "exception": false,
     "start_time": "2023-02-20T00:13:06.675497",
     "status": "completed"
    },
    "tags": []
   },
   "source": [
    "By curves intersection points we can separate 3 age groups"
   ]
  },
  {
   "cell_type": "code",
   "execution_count": 39,
   "id": "2be84b49",
   "metadata": {
    "execution": {
     "iopub.execute_input": "2023-02-20T00:13:06.743411Z",
     "iopub.status.busy": "2023-02-20T00:13:06.742273Z",
     "iopub.status.idle": "2023-02-20T00:13:06.751928Z",
     "shell.execute_reply": "2023-02-20T00:13:06.750881Z"
    },
    "papermill": {
     "duration": 0.035849,
     "end_time": "2023-02-20T00:13:06.754582",
     "exception": false,
     "start_time": "2023-02-20T00:13:06.718733",
     "status": "completed"
    },
    "tags": []
   },
   "outputs": [],
   "source": [
    "# Create Age_group feature\n",
    "df['Age_group'] = pd.cut(x=df.Age, labels=[1, 3, 2],\n",
    "                         bins=[-1, 17, 43, df.Age.max()]).astype('float')"
   ]
  },
  {
   "cell_type": "markdown",
   "id": "c47df319",
   "metadata": {
    "papermill": {
     "duration": 0.021873,
     "end_time": "2023-02-20T00:13:06.798718",
     "exception": false,
     "start_time": "2023-02-20T00:13:06.776845",
     "status": "completed"
    },
    "tags": []
   },
   "source": [
    "# Create Total_expenses_group feature"
   ]
  },
  {
   "cell_type": "code",
   "execution_count": 40,
   "id": "330188bc",
   "metadata": {
    "execution": {
     "iopub.execute_input": "2023-02-20T00:13:06.845369Z",
     "iopub.status.busy": "2023-02-20T00:13:06.844887Z",
     "iopub.status.idle": "2023-02-20T00:13:07.196437Z",
     "shell.execute_reply": "2023-02-20T00:13:07.194674Z"
    },
    "papermill": {
     "duration": 0.380884,
     "end_time": "2023-02-20T00:13:07.201315",
     "exception": false,
     "start_time": "2023-02-20T00:13:06.820431",
     "status": "completed"
    },
    "tags": []
   },
   "outputs": [
    {
     "data": {
      "image/png": "[encoded data removed]",
      "text/plain": [
       "<Figure size 720x360 with 1 Axes>"
      ]
     },
     "metadata": {
      "needs_background": "light"
     },
     "output_type": "display_data"
    }
   ],
   "source": [
    "# Transported by Non_zero_expenses\n",
    "transported_chance_by('Non_zero_expenses', np.arange(0, 9000, 500), (0, 9000))"
   ]
  },
  {
   "cell_type": "markdown",
   "id": "116f230d",
   "metadata": {
    "papermill": {
     "duration": 0.022024,
     "end_time": "2023-02-20T00:13:07.248219",
     "exception": false,
     "start_time": "2023-02-20T00:13:07.226195",
     "status": "completed"
    },
    "tags": []
   },
   "source": [
    "By curves intersection points we can separate 2 Total_expenses groups"
   ]
  },
  {
   "cell_type": "code",
   "execution_count": 41,
   "id": "c6299dae",
   "metadata": {
    "execution": {
     "iopub.execute_input": "2023-02-20T00:13:07.296661Z",
     "iopub.status.busy": "2023-02-20T00:13:07.295735Z",
     "iopub.status.idle": "2023-02-20T00:13:07.306093Z",
     "shell.execute_reply": "2023-02-20T00:13:07.305081Z"
    },
    "papermill": {
     "duration": 0.037589,
     "end_time": "2023-02-20T00:13:07.309055",
     "exception": false,
     "start_time": "2023-02-20T00:13:07.271466",
     "status": "completed"
    },
    "tags": []
   },
   "outputs": [],
   "source": [
    "# Create Total_expenses_group feature additionally separating 0 expenses group\n",
    "df['Total_expenses_group'] = pd.cut(x=df.Total_expenses, labels=[3, 1, 2],\n",
    "                         bins=[-1, 1, 2250, df.Total_expenses.max()]).astype('float')"
   ]
  },
  {
   "cell_type": "markdown",
   "id": "849c4405",
   "metadata": {
    "papermill": {
     "duration": 0.022838,
     "end_time": "2023-02-20T00:13:07.354607",
     "exception": false,
     "start_time": "2023-02-20T00:13:07.331769",
     "status": "completed"
    },
    "tags": []
   },
   "source": [
    "# Create Cab_group feature"
   ]
  },
  {
   "cell_type": "code",
   "execution_count": 42,
   "id": "51fa276c",
   "metadata": {
    "execution": {
     "iopub.execute_input": "2023-02-20T00:13:07.402322Z",
     "iopub.status.busy": "2023-02-20T00:13:07.401848Z",
     "iopub.status.idle": "2023-02-20T00:13:07.780029Z",
     "shell.execute_reply": "2023-02-20T00:13:07.778901Z"
    },
    "papermill": {
     "duration": 0.405271,
     "end_time": "2023-02-20T00:13:07.782904",
     "exception": false,
     "start_time": "2023-02-20T00:13:07.377633",
     "status": "completed"
    },
    "tags": []
   },
   "outputs": [
    {
     "data": {
      "image/png": "[encoded data removed]",
      "text/plain": [
       "<Figure size 720x360 with 1 Axes>"
      ]
     },
     "metadata": {
      "needs_background": "light"
     },
     "output_type": "display_data"
    }
   ],
   "source": [
    "# Transported by Cab_num\n",
    "transported_chance_by('Cab_num', np.arange(0, 2000, 100), (0, 2000))"
   ]
  },
  {
   "cell_type": "markdown",
   "id": "ccd10e7c",
   "metadata": {
    "papermill": {
     "duration": 0.024178,
     "end_time": "2023-02-20T00:13:07.831824",
     "exception": false,
     "start_time": "2023-02-20T00:13:07.807646",
     "status": "completed"
    },
    "tags": []
   },
   "source": [
    "By curves intersection points we can separate 4 cabin groups"
   ]
  },
  {
   "cell_type": "code",
   "execution_count": 43,
   "id": "aa4d542d",
   "metadata": {
    "execution": {
     "iopub.execute_input": "2023-02-20T00:13:07.881812Z",
     "iopub.status.busy": "2023-02-20T00:13:07.881371Z",
     "iopub.status.idle": "2023-02-20T00:13:07.892459Z",
     "shell.execute_reply": "2023-02-20T00:13:07.891257Z"
    },
    "papermill": {
     "duration": 0.039945,
     "end_time": "2023-02-20T00:13:07.895625",
     "exception": false,
     "start_time": "2023-02-20T00:13:07.855680",
     "status": "completed"
    },
    "tags": []
   },
   "outputs": [],
   "source": [
    "# Create Cab_group feature\n",
    "df['Cab_group'] = pd.cut(x=df.Cab_num, labels=[3, 2, 4, 1],\n",
    "                         bins=[-1, 300, 690, 1170, df.Cab_num.max()]).astype('float')"
   ]
  },
  {
   "cell_type": "markdown",
   "id": "aa9a9fcc",
   "metadata": {
    "papermill": {
     "duration": 0.023867,
     "end_time": "2023-02-20T00:13:07.943659",
     "exception": false,
     "start_time": "2023-02-20T00:13:07.919792",
     "status": "completed"
    },
    "tags": []
   },
   "source": [
    "# Create Pass_group_type feature"
   ]
  },
  {
   "cell_type": "code",
   "execution_count": 44,
   "id": "136f862b",
   "metadata": {
    "execution": {
     "iopub.execute_input": "2023-02-20T00:13:07.991644Z",
     "iopub.status.busy": "2023-02-20T00:13:07.991208Z",
     "iopub.status.idle": "2023-02-20T00:13:08.368532Z",
     "shell.execute_reply": "2023-02-20T00:13:08.367259Z"
    },
    "papermill": {
     "duration": 0.405145,
     "end_time": "2023-02-20T00:13:08.371336",
     "exception": false,
     "start_time": "2023-02-20T00:13:07.966191",
     "status": "completed"
    },
    "tags": []
   },
   "outputs": [
    {
     "data": {
      "image/png": "[encoded data removed]",
      "text/plain": [
       "<Figure size 720x360 with 1 Axes>"
      ]
     },
     "metadata": {
      "needs_background": "light"
     },
     "output_type": "display_data"
    }
   ],
   "source": [
    "# Transported by Pass_group\n",
    "transported_chance_by('Pass_group', np.arange(0, 10000, 500), (0, 10000))"
   ]
  },
  {
   "cell_type": "markdown",
   "id": "22a6e1f9",
   "metadata": {
    "papermill": {
     "duration": 0.02491,
     "end_time": "2023-02-20T00:13:08.420763",
     "exception": false,
     "start_time": "2023-02-20T00:13:08.395853",
     "status": "completed"
    },
    "tags": []
   },
   "source": [
    "By curves intersection points we can separate 3 passengers group type"
   ]
  },
  {
   "cell_type": "code",
   "execution_count": 45,
   "id": "ba08a992",
   "metadata": {
    "execution": {
     "iopub.execute_input": "2023-02-20T00:13:08.470625Z",
     "iopub.status.busy": "2023-02-20T00:13:08.470191Z",
     "iopub.status.idle": "2023-02-20T00:13:08.479237Z",
     "shell.execute_reply": "2023-02-20T00:13:08.478310Z"
    },
    "papermill": {
     "duration": 0.03782,
     "end_time": "2023-02-20T00:13:08.481930",
     "exception": false,
     "start_time": "2023-02-20T00:13:08.444110",
     "status": "completed"
    },
    "tags": []
   },
   "outputs": [],
   "source": [
    "# Create Pass_group_type feature\n",
    "df['Pass_group_type'] = pd.cut(x=df.Pass_group, labels=[2, 3, 1], \n",
    "                               bins=[-1, 3400, 7300, df.Pass_group.max()]).astype('float')"
   ]
  },
  {
   "cell_type": "markdown",
   "id": "a9cf690a",
   "metadata": {
    "papermill": {
     "duration": 0.023536,
     "end_time": "2023-02-20T00:13:08.529071",
     "exception": false,
     "start_time": "2023-02-20T00:13:08.505535",
     "status": "completed"
    },
    "tags": []
   },
   "source": [
    "# Standardization"
   ]
  },
  {
   "cell_type": "code",
   "execution_count": 46,
   "id": "b546c181",
   "metadata": {
    "execution": {
     "iopub.execute_input": "2023-02-20T00:13:08.580951Z",
     "iopub.status.busy": "2023-02-20T00:13:08.580476Z",
     "iopub.status.idle": "2023-02-20T00:13:08.612646Z",
     "shell.execute_reply": "2023-02-20T00:13:08.610969Z"
    },
    "papermill": {
     "duration": 0.061567,
     "end_time": "2023-02-20T00:13:08.616070",
     "exception": false,
     "start_time": "2023-02-20T00:13:08.554503",
     "status": "completed"
    },
    "tags": []
   },
   "outputs": [],
   "source": [
    "# Apply np.log to normalize the skewed right data\n",
    "skewed_features = ['RoomService', 'FoodCourt', 'ShoppingMall', \n",
    "                   'Spa', 'VRDeck', 'Total_expenses']\n",
    "df[skewed_features] = df[skewed_features].apply(np.log1p)\n",
    "\n",
    "# Standardize \n",
    "std_scaler = StandardScaler()\n",
    "\n",
    "df_scaled = std_scaler.fit_transform(df)\n",
    "df = pd.DataFrame(df_scaled, columns=df.columns)"
   ]
  },
  {
   "cell_type": "code",
   "execution_count": 47,
   "id": "90fa14a7",
   "metadata": {
    "execution": {
     "iopub.execute_input": "2023-02-20T00:13:08.666750Z",
     "iopub.status.busy": "2023-02-20T00:13:08.665707Z",
     "iopub.status.idle": "2023-02-20T00:13:08.675892Z",
     "shell.execute_reply": "2023-02-20T00:13:08.674998Z"
    },
    "papermill": {
     "duration": 0.038504,
     "end_time": "2023-02-20T00:13:08.678638",
     "exception": false,
     "start_time": "2023-02-20T00:13:08.640134",
     "status": "completed"
    },
    "tags": []
   },
   "outputs": [],
   "source": [
    "# Drop columns not used for modeling\n",
    "col_drop = ['Cab_num', 'Pass_group']\n",
    "df = df.drop(col_drop, axis=1)"
   ]
  },
  {
   "cell_type": "markdown",
   "id": "8879fdac",
   "metadata": {
    "papermill": {
     "duration": 0.023395,
     "end_time": "2023-02-20T00:13:08.726884",
     "exception": false,
     "start_time": "2023-02-20T00:13:08.703489",
     "status": "completed"
    },
    "tags": []
   },
   "source": [
    "# Split train and test data"
   ]
  },
  {
   "cell_type": "code",
   "execution_count": 48,
   "id": "145242ee",
   "metadata": {
    "execution": {
     "iopub.execute_input": "2023-02-20T00:13:08.775651Z",
     "iopub.status.busy": "2023-02-20T00:13:08.774991Z",
     "iopub.status.idle": "2023-02-20T00:13:08.780565Z",
     "shell.execute_reply": "2023-02-20T00:13:08.779696Z"
    },
    "papermill": {
     "duration": 0.032524,
     "end_time": "2023-02-20T00:13:08.782747",
     "exception": false,
     "start_time": "2023-02-20T00:13:08.750223",
     "status": "completed"
    },
    "tags": []
   },
   "outputs": [],
   "source": [
    "X = df[:X_max_index]\n",
    "test_df = df[X_max_index:]"
   ]
  },
  {
   "cell_type": "markdown",
   "id": "2a7cdf32",
   "metadata": {
    "papermill": {
     "duration": 0.024664,
     "end_time": "2023-02-20T00:13:08.832650",
     "exception": false,
     "start_time": "2023-02-20T00:13:08.807986",
     "status": "completed"
    },
    "tags": []
   },
   "source": [
    "# Processed data correlation"
   ]
  },
  {
   "cell_type": "code",
   "execution_count": 49,
   "id": "f40e1b34",
   "metadata": {
    "execution": {
     "iopub.execute_input": "2023-02-20T00:13:08.882116Z",
     "iopub.status.busy": "2023-02-20T00:13:08.881090Z",
     "iopub.status.idle": "2023-02-20T00:13:09.354211Z",
     "shell.execute_reply": "2023-02-20T00:13:09.352646Z"
    },
    "papermill": {
     "duration": 0.500724,
     "end_time": "2023-02-20T00:13:09.357033",
     "exception": false,
     "start_time": "2023-02-20T00:13:08.856309",
     "status": "completed"
    },
    "tags": []
   },
   "outputs": [
    {
     "data": {
      "image/png": "[encoded data removed]",
      "text/plain": [
       "<Figure size 720x360 with 1 Axes>"
      ]
     },
     "metadata": {
      "needs_background": "light"
     },
     "output_type": "display_data"
    }
   ],
   "source": [
    "# Concatenate into a full dataset\n",
    "full_df = pd.concat([X, y], axis=1)\n",
    "\n",
    "correlation = full_df.corr()['Transported'].sort_values(ascending=False)\n",
    "\n",
    "# Correlation graph\n",
    "correlation[1:].plot(kind='bar', figsize=(10,5), title='Transported dependency')\n",
    "plt.show()"
   ]
  },
  {
   "cell_type": "markdown",
   "id": "41c4f6cb",
   "metadata": {
    "papermill": {
     "duration": 0.024198,
     "end_time": "2023-02-20T00:13:09.405939",
     "exception": false,
     "start_time": "2023-02-20T00:13:09.381741",
     "status": "completed"
    },
    "tags": []
   },
   "source": [
    "# Conclusion\n",
    "On Spaceship Titanic is better to not be a sleeping passenger from Europa or to be awake with an all inclusive package with no extra expenses."
   ]
  },
  {
   "cell_type": "markdown",
   "id": "37c0c2a4",
   "metadata": {
    "papermill": {
     "duration": 0.023499,
     "end_time": "2023-02-20T00:13:09.453644",
     "exception": false,
     "start_time": "2023-02-20T00:13:09.430145",
     "status": "completed"
    },
    "tags": []
   },
   "source": [
    "# Find best features\n",
    "This cell is commented out as it takes long time to run and the resulted final_features are shown further"
   ]
  },
  {
   "cell_type": "code",
   "execution_count": 50,
   "id": "cb389618",
   "metadata": {
    "execution": {
     "iopub.execute_input": "2023-02-20T00:13:09.504127Z",
     "iopub.status.busy": "2023-02-20T00:13:09.503661Z",
     "iopub.status.idle": "2023-02-20T00:13:09.509085Z",
     "shell.execute_reply": "2023-02-20T00:13:09.507937Z"
    },
    "papermill": {
     "duration": 0.034156,
     "end_time": "2023-02-20T00:13:09.511800",
     "exception": false,
     "start_time": "2023-02-20T00:13:09.477644",
     "status": "completed"
    },
    "tags": []
   },
   "outputs": [],
   "source": [
    "# # Define model\n",
    "# cat_model = CatBoostClassifier(thread_count=-1, verbose=False)\n",
    "\n",
    "# # Define and fit feature selector\n",
    "# sfs = SequentialFeatureSelector(cat_model, \n",
    "#                                 scoring='accuracy', \n",
    "#                                 direction = 'backward')\n",
    "# sfs.fit(X,y)\n",
    "\n",
    "# # List of the final features to be used for submission modeling\n",
    "# final_features = list(sfs.get_feature_names_out())"
   ]
  },
  {
   "cell_type": "code",
   "execution_count": 51,
   "id": "e5a33d31",
   "metadata": {
    "execution": {
     "iopub.execute_input": "2023-02-20T00:13:09.563524Z",
     "iopub.status.busy": "2023-02-20T00:13:09.563064Z",
     "iopub.status.idle": "2023-02-20T00:13:09.569326Z",
     "shell.execute_reply": "2023-02-20T00:13:09.568090Z"
    },
    "papermill": {
     "duration": 0.034895,
     "end_time": "2023-02-20T00:13:09.572009",
     "exception": false,
     "start_time": "2023-02-20T00:13:09.537114",
     "status": "completed"
    },
    "tags": []
   },
   "outputs": [],
   "source": [
    "# From Feature selector we've got this list of final features to use\n",
    "final_features = [\n",
    "    'HomePlanet_Earth', 'HomePlanet_Mars', 'HomePlanet_Missing', 'CryoSleep_True',\n",
    "    'Destination_PSO J318.5-22', 'Destination_TRAPPIST-1e', 'Deck_A', 'Deck_Missing',\n",
    "    'Deck_T', 'Deck_side_P', 'Age', 'RoomService', 'ShoppingMall', 'Spa', 'VRDeck',\n",
    "    'Total_expenses', 'Group_members', 'Deck_transp_ratio', 'Total_expenses_group', 'Cab_group']"
   ]
  },
  {
   "cell_type": "markdown",
   "id": "5cab0762",
   "metadata": {
    "papermill": {
     "duration": 0.024302,
     "end_time": "2023-02-20T00:13:09.621108",
     "exception": false,
     "start_time": "2023-02-20T00:13:09.596806",
     "status": "completed"
    },
    "tags": []
   },
   "source": [
    "# CatBoost grid search parameter tuning\n",
    "This cell is commented out as it takes long time to run and the resulted parameters are shown further"
   ]
  },
  {
   "cell_type": "code",
   "execution_count": null,
   "id": "1e117e65",
   "metadata": {
    "execution": {
     "iopub.execute_input": "2023-02-20T00:13:09.672283Z",
     "iopub.status.busy": "2023-02-20T00:13:09.671847Z",
     "iopub.status.idle": "2023-02-20T00:13:09.676424Z",
     "shell.execute_reply": "2023-02-20T00:13:09.675523Z"
    },
    "papermill": {
     "duration": 0.032873,
     "end_time": "2023-02-20T00:13:09.678912",
     "exception": false,
     "start_time": "2023-02-20T00:13:09.646039",
     "status": "completed"
    },
    "tags": []
   },
   "outputs": [],
   "source": [
    "# # Define model\n",
    "cat_model = CatBoostClassifier()\n",
    "\n",
    "# Define parameters' grid\n",
    "grid = {'verbose': [False],\n",
    "         'thread_count': [-1],\n",
    "         'depth': [4, 5, 6, 7],\n",
    "         'iterations': [1000, 2000,2500,2700,3000,3200,3800,5000],\n",
    "         'learning_rate': [0.001,0.004,0.0045, 0.005,0.0055, 0.01, 0.02]}\n",
    "\n",
    "# # Define GridSearchCV\n",
    "#\n",
    "grid_cat = GridSearchCV(estimator=cat_model, param_grid=grid, cv=3, n_jobs=-1)\n",
    "# \n",
    "grid_cat.fit(X[final_features], y)\n",
    "\n",
    "# \n",
    "params = grid_cat.best_params_\n",
    "\n",
    "# \n",
    "print('\\n Best Score:\\n', grid_cat.best_score_)\n",
    "# \n",
    "print('\\n Best parameters:\\n', params)"
   ]
  },
  {
   "cell_type": "code",
   "execution_count": null,
   "id": "ee86e3eb",
   "metadata": {
    "execution": {
     "iopub.execute_input": "2023-02-20T00:13:09.729319Z",
     "iopub.status.busy": "2023-02-20T00:13:09.728882Z",
     "iopub.status.idle": "2023-02-20T00:13:09.734644Z",
     "shell.execute_reply": "2023-02-20T00:13:09.733370Z"
    },
    "papermill": {
     "duration": 0.033997,
     "end_time": "2023-02-20T00:13:09.737191",
     "exception": false,
     "start_time": "2023-02-20T00:13:09.703194",
     "status": "completed"
    },
    "tags": []
   },
   "outputs": [],
   "source": [
    "# Best parameters\n",
    "params =  {'depth': 6,\n",
    "           'iterations': 2000, \n",
    "           'learning_rate': 0.01, \n",
    "           'thread_count': -1, \n",
    "           'verbose': False}"
   ]
  },
  {
   "cell_type": "markdown",
   "id": "ae7fb544",
   "metadata": {
    "papermill": {
     "duration": 0.024306,
     "end_time": "2023-02-20T00:13:09.786034",
     "exception": false,
     "start_time": "2023-02-20T00:13:09.761728",
     "status": "completed"
    },
    "tags": []
   },
   "source": [
    "# Final model"
   ]
  },
  {
   "cell_type": "code",
   "execution_count": null,
   "id": "e988d37e",
   "metadata": {
    "execution": {
     "iopub.execute_input": "2023-02-20T00:13:09.837206Z",
     "iopub.status.busy": "2023-02-20T00:13:09.836762Z",
     "iopub.status.idle": "2023-02-20T00:14:03.144443Z",
     "shell.execute_reply": "2023-02-20T00:14:03.142976Z"
    },
    "papermill": {
     "duration": 53.362922,
     "end_time": "2023-02-20T00:14:03.173292",
     "exception": false,
     "start_time": "2023-02-20T00:13:09.810370",
     "status": "completed"
    },
    "tags": []
   },
   "outputs": [],
   "source": [
    "# Define and fit the final model\n",
    "cat_model = CatBoostClassifier(**grid_cat.best_params_)\n",
    "cat_model.fit(X[final_features], y)\n",
    "\n",
    "# Check accuracy and features importance\n",
    "cat_rmses = cross_val_score(cat_model, X[final_features], y, cv=5)\n",
    "\n",
    "print(pd.Series(cat_rmses).describe())\n",
    "print('\\n', cat_model.get_feature_importance(prettified=True))"
   ]
  },
  {
   "cell_type": "markdown",
   "id": "ca3e917c",
   "metadata": {},
   "source": [
    "<h1 style=\"color:red\">RITARTHA:</h1>"
   ]
  },
  {
   "cell_type": "code",
   "execution_count": null,
   "id": "b23a4a33",
   "metadata": {},
   "outputs": [],
   "source": [
    "from sklearn.ensemble import RandomForestClassifier as rfc\n",
    "r = rfc()\n",
    "r.fit(X[final_features], y)"
   ]
  },
  {
   "cell_type": "code",
   "execution_count": null,
   "id": "84c2867a",
   "metadata": {},
   "outputs": [],
   "source": [
    "test_preds = r.predict(test_df[final_features])\n",
    "\n",
    "# Save predictions in the format used for competition scoring\n",
    "output = pd.DataFrame({'PassengerId': test_pass_id,\n",
    "                       'Transported': test_preds.astype(bool)})\n",
    "\n",
    "output.to_csv('submission17_03_23.csv', index=False)"
   ]
  },
  {
   "cell_type": "code",
   "execution_count": null,
   "id": "e90d4034",
   "metadata": {},
   "outputs": [],
   "source": []
  },
  {
   "cell_type": "code",
   "execution_count": null,
   "id": "bac4a111",
   "metadata": {},
   "outputs": [],
   "source": []
  },
  {
   "cell_type": "code",
   "execution_count": null,
   "id": "9d94d749",
   "metadata": {},
   "outputs": [],
   "source": []
  },
  {
   "cell_type": "code",
   "execution_count": null,
   "id": "0ccc2771",
   "metadata": {},
   "outputs": [],
   "source": []
  },
  {
   "cell_type": "code",
   "execution_count": null,
   "id": "9474cac6",
   "metadata": {},
   "outputs": [],
   "source": [
    "\n"
   ]
  },
  {
   "cell_type": "code",
   "execution_count": null,
   "id": "1babdc40",
   "metadata": {},
   "outputs": [],
   "source": []
  },
  {
   "cell_type": "code",
   "execution_count": null,
   "id": "3647574b",
   "metadata": {},
   "outputs": [],
   "source": []
  },
  {
   "cell_type": "markdown",
   "id": "9c837081",
   "metadata": {
    "papermill": {
     "duration": 0.024023,
     "end_time": "2023-02-20T00:14:03.224032",
     "exception": false,
     "start_time": "2023-02-20T00:14:03.200009",
     "status": "completed"
    },
    "tags": []
   },
   "source": [
    "# Submission\n"
   ]
  },
  {
   "cell_type": "code",
   "execution_count": 62,
   "id": "3341a737",
   "metadata": {
    "execution": {
     "iopub.execute_input": "2023-02-20T00:14:03.275163Z",
     "iopub.status.busy": "2023-02-20T00:14:03.274724Z",
     "iopub.status.idle": "2023-02-20T00:14:03.304776Z",
     "shell.execute_reply": "2023-02-20T00:14:03.303547Z"
    },
    "papermill": {
     "duration": 0.059568,
     "end_time": "2023-02-20T00:14:03.307966",
     "exception": false,
     "start_time": "2023-02-20T00:14:03.248398",
     "status": "completed"
    },
    "tags": []
   },
   "outputs": [],
   "source": [
    "# Make predictions which we will submit.\n",
    "test_preds = cat_model.predict(test_df[final_features])\n",
    "\n",
    "# Save predictions in the format used for competition scoring\n",
    "output = pd.DataFrame({'PassengerId': test_pass_id,\n",
    "                       'Transported': test_preds.astype(bool)})\n",
    "\n",
    "output.to_csv('submission.csv', index=False)"
   ]
  },
  {
   "cell_type": "code",
   "execution_count": null,
   "id": "7c722525",
   "metadata": {},
   "outputs": [],
   "source": []
  }
 ],
 "metadata": {
  "kernelspec": {
   "display_name": "Python 3",
   "language": "python",
   "name": "python3"
  },
  "language_info": {
   "codemirror_mode": {
    "name": "ipython",
    "version": 3
   },
   "file_extension": ".py",
   "mimetype": "text/x-python",
   "name": "python",
   "nbconvert_exporter": "python",
   "pygments_lexer": "ipython3",
   "version": "3.8.8"
  },
  "papermill": {
   "default_parameters": {},
   "duration": 85.506834,
   "end_time": "2023-02-20T00:14:04.457898",
   "environment_variables": {},
   "exception": null,
   "input_path": "__notebook__.ipynb",
   "output_path": "__notebook__.ipynb",
   "parameters": {},
   "start_time": "2023-02-20T00:12:38.951064",
   "version": "2.3.4"
  }
 },
 "nbformat": 4,
 "nbformat_minor": 5
}
