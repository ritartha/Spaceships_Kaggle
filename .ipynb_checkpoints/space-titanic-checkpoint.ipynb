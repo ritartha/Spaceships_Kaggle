{
 "cells": [
  {
   "cell_type": "markdown",
   "id": "969217a0",
   "metadata": {
    "_cell_guid": "456ddc7b-eae9-49cb-bab6-da716f462e6d",
    "_uuid": "1d56f410-12e2-424e-a861-48ab3a345b52",
    "papermill": {
     "duration": 0.017635,
     "end_time": "2022-12-24T17:07:01.128038",
     "exception": false,
     "start_time": "2022-12-24T17:07:01.110403",
     "status": "completed"
    },
    "tags": []
   },
   "source": [
    "![](https://c4.wallpaperflare.com/wallpaper/773/253/247/multiple-display-space-planet-atmosphere-wallpaper-thumb.jpg)"
   ]
  },
  {
   "cell_type": "markdown",
   "id": "f103cf7f",
   "metadata": {
    "papermill": {
     "duration": 0.017756,
     "end_time": "2022-12-24T17:07:01.162150",
     "exception": false,
     "start_time": "2022-12-24T17:07:01.144394",
     "status": "completed"
    },
    "tags": []
   },
   "source": [
    "## **##### 1.Importing necessary libraries**"
   ]
  },
  {
   "cell_type": "code",
   "execution_count": 1,
   "id": "07b9b659",
   "metadata": {
    "_cell_guid": "0cfe2334-113b-4f61-bb84-6b29ebe5cc7e",
    "_uuid": "8fd78f5e-805b-43bb-ac43-55254d27c773",
    "execution": {
     "iopub.execute_input": "2022-12-24T17:07:01.197106Z",
     "iopub.status.busy": "2022-12-24T17:07:01.196163Z",
     "iopub.status.idle": "2022-12-24T17:07:11.741336Z",
     "shell.execute_reply": "2022-12-24T17:07:11.740208Z"
    },
    "jupyter": {
     "outputs_hidden": false
    },
    "papermill": {
     "duration": 10.565736,
     "end_time": "2022-12-24T17:07:11.744253",
     "exception": false,
     "start_time": "2022-12-24T17:07:01.178517",
     "status": "completed"
    },
    "tags": []
   },
   "outputs": [
    {
     "ename": "ModuleNotFoundError",
     "evalue": "No module named 'optuna'",
     "output_type": "error",
     "traceback": [
      "\u001b[1;31m---------------------------------------------------------------------------\u001b[0m",
      "\u001b[1;31mModuleNotFoundError\u001b[0m                       Traceback (most recent call last)",
      "\u001b[1;32m<ipython-input-1-b690389f9afc>\u001b[0m in \u001b[0;36m<module>\u001b[1;34m\u001b[0m\n\u001b[0;32m     19\u001b[0m \u001b[1;32mfrom\u001b[0m \u001b[0msklearn\u001b[0m\u001b[1;33m.\u001b[0m\u001b[0mmetrics\u001b[0m \u001b[1;32mimport\u001b[0m \u001b[0mlog_loss\u001b[0m\u001b[1;33m\u001b[0m\u001b[1;33m\u001b[0m\u001b[0m\n\u001b[0;32m     20\u001b[0m \u001b[1;32mfrom\u001b[0m \u001b[0msklearn\u001b[0m\u001b[1;33m.\u001b[0m\u001b[0mmetrics\u001b[0m \u001b[1;32mimport\u001b[0m \u001b[0maccuracy_score\u001b[0m\u001b[1;33m\u001b[0m\u001b[1;33m\u001b[0m\u001b[0m\n\u001b[1;32m---> 21\u001b[1;33m \u001b[1;32mimport\u001b[0m \u001b[0moptuna\u001b[0m\u001b[1;33m\u001b[0m\u001b[1;33m\u001b[0m\u001b[0m\n\u001b[0m\u001b[0;32m     22\u001b[0m \u001b[1;32mimport\u001b[0m \u001b[0mxgboost\u001b[0m \u001b[1;32mas\u001b[0m \u001b[0mxgb\u001b[0m\u001b[1;33m\u001b[0m\u001b[1;33m\u001b[0m\u001b[0m\n\u001b[0;32m     23\u001b[0m from sklearn.ensemble import (RandomForestClassifier, AdaBoostClassifier, GradientBoostingClassifier, \n",
      "\u001b[1;31mModuleNotFoundError\u001b[0m: No module named 'optuna'"
     ]
    }
   ],
   "source": [
    "from sklearn.impute import SimpleImputer\n",
    "from sklearn.preprocessing import OneHotEncoder\n",
    "from sklearn.metrics import mean_absolute_error\n",
    "import pandas as pd\n",
    "import numpy as np\n",
    "import base64\n",
    "import seaborn as sns\n",
    "import matplotlib.pyplot as plt\n",
    "import os\n",
    "import random\n",
    "import gc\n",
    "\n",
    "from sklearn.impute import SimpleImputer\n",
    "from sklearn.preprocessing import OneHotEncoder\n",
    "from sklearn.preprocessing import StandardScaler\n",
    "from sklearn.utils import shuffle\n",
    "from sklearn.model_selection import train_test_split\n",
    "from sklearn.utils import shuffle\n",
    "from sklearn.metrics import log_loss\n",
    "from sklearn.metrics import accuracy_score\n",
    "import optuna\n",
    "import xgboost as xgb\n",
    "from sklearn.ensemble import (RandomForestClassifier, AdaBoostClassifier, GradientBoostingClassifier, \n",
    "                              ExtraTreesClassifier, VotingClassifier)\n",
    "from sklearn.discriminant_analysis import LinearDiscriminantAnalysis\n",
    "from sklearn.linear_model import LogisticRegression\n",
    "from sklearn.neighbors import KNeighborsClassifier\n",
    "from sklearn.tree import DecisionTreeClassifier\n",
    "from sklearn.neural_network import MLPClassifier\n",
    "from catboost import CatBoostClassifier\n",
    "from sklearn.svm import SVC\n",
    "from sklearn import datasets, linear_model\n",
    "import lightgbm as lgb\n",
    "from sklearn.model_selection import cross_val_score\n",
    "from sklearn.model_selection import StratifiedKFold\n",
    "\n",
    "pd.set_option('display.max_columns', None)   \n",
    "\n",
    "from sklearn.model_selection import train_test_split\n",
    "from sklearn.ensemble import RandomForestClassifier\n",
    "import eli5\n",
    "from eli5.sklearn import PermutationImportance\n",
    "\n"
   ]
  },
  {
   "cell_type": "markdown",
   "id": "fc425a07",
   "metadata": {
    "papermill": {
     "duration": 0.016349,
     "end_time": "2022-12-24T17:07:11.777315",
     "exception": false,
     "start_time": "2022-12-24T17:07:11.760966",
     "status": "completed"
    },
    "tags": []
   },
   "source": [
    "## **##### 2.Loading datasets**"
   ]
  },
  {
   "cell_type": "code",
   "execution_count": null,
   "id": "da459ecc",
   "metadata": {
    "_cell_guid": "aec5ba70-d2ee-4148-a962-ee07d5acb350",
    "_uuid": "8a40a6ab-5d88-458f-ba89-88887ab7387f",
    "execution": {
     "iopub.execute_input": "2022-12-24T17:07:11.813649Z",
     "iopub.status.busy": "2022-12-24T17:07:11.812776Z",
     "iopub.status.idle": "2022-12-24T17:07:11.899962Z",
     "shell.execute_reply": "2022-12-24T17:07:11.898872Z"
    },
    "jupyter": {
     "outputs_hidden": false
    },
    "papermill": {
     "duration": 0.10905,
     "end_time": "2022-12-24T17:07:11.903055",
     "exception": false,
     "start_time": "2022-12-24T17:07:11.794005",
     "status": "completed"
    },
    "tags": []
   },
   "outputs": [],
   "source": [
    "test = pd.read_csv('test.csv')\n",
    "sample = pd.read_csv('sample_submission.csv')\n",
    "train = pd.read_csv('train.csv')"
   ]
  },
  {
   "cell_type": "markdown",
   "id": "1547df11",
   "metadata": {
    "papermill": {
     "duration": 0.016614,
     "end_time": "2022-12-24T17:07:11.936165",
     "exception": false,
     "start_time": "2022-12-24T17:07:11.919551",
     "status": "completed"
    },
    "tags": []
   },
   "source": [
    "## **##### 3.Miss information analysis**"
   ]
  },
  {
   "cell_type": "code",
   "execution_count": null,
   "id": "3995c2da",
   "metadata": {
    "_cell_guid": "104e3e04-0654-45ec-8597-5302064eb934",
    "_uuid": "1555e4b9-45b4-4659-9296-8a9b15b99257",
    "execution": {
     "iopub.execute_input": "2022-12-24T17:07:11.970591Z",
     "iopub.status.busy": "2022-12-24T17:07:11.970197Z",
     "iopub.status.idle": "2022-12-24T17:07:12.751341Z",
     "shell.execute_reply": "2022-12-24T17:07:12.750572Z"
    },
    "jupyter": {
     "outputs_hidden": false
    },
    "papermill": {
     "duration": 0.800973,
     "end_time": "2022-12-24T17:07:12.753412",
     "exception": false,
     "start_time": "2022-12-24T17:07:11.952439",
     "status": "completed"
    },
    "tags": []
   },
   "outputs": [],
   "source": [
    "print(train.isnull().sum())\n",
    "sns.heatmap(train.isnull())\n",
    "print(train.info())"
   ]
  },
  {
   "cell_type": "code",
   "execution_count": null,
   "id": "8a823523",
   "metadata": {
    "_cell_guid": "03a99af1-5f53-4767-aab7-8883b911d728",
    "_uuid": "35d2b2b6-4b44-4edf-b508-574945cce747",
    "execution": {
     "iopub.execute_input": "2022-12-24T17:07:12.791535Z",
     "iopub.status.busy": "2022-12-24T17:07:12.790852Z",
     "iopub.status.idle": "2022-12-24T17:07:13.249119Z",
     "shell.execute_reply": "2022-12-24T17:07:13.247438Z"
    },
    "jupyter": {
     "outputs_hidden": false
    },
    "papermill": {
     "duration": 0.480628,
     "end_time": "2022-12-24T17:07:13.251770",
     "exception": false,
     "start_time": "2022-12-24T17:07:12.771142",
     "status": "completed"
    },
    "tags": []
   },
   "outputs": [],
   "source": [
    "print(test.isnull().sum())\n",
    "sns.heatmap(test.isnull())\n",
    "print(test.info())"
   ]
  },
  {
   "cell_type": "markdown",
   "id": "1527b643",
   "metadata": {
    "papermill": {
     "duration": 0.017412,
     "end_time": "2022-12-24T17:07:13.287261",
     "exception": false,
     "start_time": "2022-12-24T17:07:13.269849",
     "status": "completed"
    },
    "tags": []
   },
   "source": [
    "## **##### 4.Preprocessing**"
   ]
  },
  {
   "cell_type": "code",
   "execution_count": null,
   "id": "8d8e0f59",
   "metadata": {
    "execution": {
     "iopub.execute_input": "2022-12-24T17:07:13.325486Z",
     "iopub.status.busy": "2022-12-24T17:07:13.324450Z",
     "iopub.status.idle": "2022-12-24T17:07:13.328652Z",
     "shell.execute_reply": "2022-12-24T17:07:13.327891Z"
    },
    "papermill": {
     "duration": 0.025271,
     "end_time": "2022-12-24T17:07:13.330683",
     "exception": false,
     "start_time": "2022-12-24T17:07:13.305412",
     "status": "completed"
    },
    "tags": []
   },
   "outputs": [],
   "source": [
    "################################################################\n",
    "## The passengers were all from the same ship. This means we  ##\n",
    "## don't have to search for lost information separately.      ##\n",
    "################################################################"
   ]
  },
  {
   "cell_type": "code",
   "execution_count": null,
   "id": "ba8ccf67",
   "metadata": {
    "execution": {
     "iopub.execute_input": "2022-12-24T17:07:13.368644Z",
     "iopub.status.busy": "2022-12-24T17:07:13.367646Z",
     "iopub.status.idle": "2022-12-24T17:07:13.373112Z",
     "shell.execute_reply": "2022-12-24T17:07:13.372017Z"
    },
    "papermill": {
     "duration": 0.026462,
     "end_time": "2022-12-24T17:07:13.375042",
     "exception": false,
     "start_time": "2022-12-24T17:07:13.348580",
     "status": "completed"
    },
    "tags": []
   },
   "outputs": [],
   "source": [
    "def get_score(model,X,y):\n",
    "    n = cross_val_score(model,X,y,scoring ='accuracy',cv=20)\n",
    "    return n"
   ]
  },
  {
   "cell_type": "code",
   "execution_count": null,
   "id": "738b8b07",
   "metadata": {
    "execution": {
     "iopub.execute_input": "2022-12-24T17:07:13.412366Z",
     "iopub.status.busy": "2022-12-24T17:07:13.411983Z",
     "iopub.status.idle": "2022-12-24T17:07:13.417817Z",
     "shell.execute_reply": "2022-12-24T17:07:13.416733Z"
    },
    "papermill": {
     "duration": 0.027357,
     "end_time": "2022-12-24T17:07:13.420239",
     "exception": false,
     "start_time": "2022-12-24T17:07:13.392882",
     "status": "completed"
    },
    "tags": []
   },
   "outputs": [],
   "source": [
    "params_XGB_best ={'lambda': 3.0610042624477543, \n",
    "             'alpha': 4.581902571574289, \n",
    "             'colsample_bytree': 0.9241969052729379, \n",
    "             'subsample': 0.9527591724824661, \n",
    "             'learning_rate': 0.06672065863100594, \n",
    "             'n_estimators': 725, #initial value is 651\n",
    "             'max_depth': 5, \n",
    "             'min_child_weight': 1, \n",
    "             'num_parallel_tree': 1}"
   ]
  },
  {
   "cell_type": "code",
   "execution_count": null,
   "id": "a31f71c2",
   "metadata": {
    "execution": {
     "iopub.execute_input": "2022-12-24T17:07:13.458953Z",
     "iopub.status.busy": "2022-12-24T17:07:13.458586Z",
     "iopub.status.idle": "2022-12-24T17:07:13.469303Z",
     "shell.execute_reply": "2022-12-24T17:07:13.468140Z"
    },
    "papermill": {
     "duration": 0.033422,
     "end_time": "2022-12-24T17:07:13.471864",
     "exception": false,
     "start_time": "2022-12-24T17:07:13.438442",
     "status": "completed"
    },
    "tags": []
   },
   "outputs": [],
   "source": [
    "def t_fold(X,y,n_splits): \n",
    "    params= {'lambda': 3.0610042624477543, \n",
    "             'alpha': 4.581902571574289, \n",
    "             'colsample_bytree': 0.9241969052729379, \n",
    "             'subsample': 0.9527591724824661, \n",
    "             'learning_rate': 0.06672065863100594, \n",
    "             'n_estimators': 7250, #initial value is 725\n",
    "             'max_depth': 5, \n",
    "             'min_child_weight': 1, \n",
    "             'num_parallel_tree': 1,\n",
    "             'early_stopping_rounds':200,}\n",
    "    results=[]\n",
    "    n_iterations=[]\n",
    "    skf = StratifiedKFold(n_splits=n_splits)\n",
    "    for train_index, test_index in skf.split(X, y):\n",
    "        train_X, valid_X = X.iloc[train_index], X.iloc[test_index]\n",
    "        train_y, valid_y = y.iloc[train_index], y.iloc[test_index]\n",
    "        model = xgb.XGBClassifier(**params).fit(train_X,train_y,\n",
    "                                      eval_set=[(valid_X,valid_y)],\n",
    "                                      verbose=0\n",
    "                                     )  \n",
    "        n_iteration = model.get_booster().best_iteration\n",
    "        n_iterations.append(n_iteration)\n",
    "        result = accuracy_score(valid_y,(model.predict(valid_X)))\n",
    "        results.append(result)\n",
    "        i=int(sum(n_iterations)/len(n_iterations))\n",
    "    print(\"Average n_ite=\" + str(i))\n",
    "    print(\"% of scatter =\" + str(np.std(n_iterations)/i))    \n",
    "    n=sum(results)/len(results) \n",
    "    print (n)\n",
    "    print(\"FIIINISH__________________________________\\n\")\n",
    "    return n"
   ]
  },
  {
   "cell_type": "code",
   "execution_count": null,
   "id": "9a85c60d",
   "metadata": {
    "_cell_guid": "42209329-7286-4a08-9532-97146ff138ab",
    "_uuid": "0ef91b11-c3bb-4d23-93bb-cdb6d8cd291d",
    "execution": {
     "iopub.execute_input": "2022-12-24T17:07:13.509875Z",
     "iopub.status.busy": "2022-12-24T17:07:13.509117Z",
     "iopub.status.idle": "2022-12-24T17:07:13.520064Z",
     "shell.execute_reply": "2022-12-24T17:07:13.519247Z"
    },
    "jupyter": {
     "outputs_hidden": false
    },
    "papermill": {
     "duration": 0.032442,
     "end_time": "2022-12-24T17:07:13.522413",
     "exception": false,
     "start_time": "2022-12-24T17:07:13.489971",
     "status": "completed"
    },
    "tags": []
   },
   "outputs": [],
   "source": [
    "train_test=train.append(test)"
   ]
  },
  {
   "cell_type": "code",
   "execution_count": null,
   "id": "e054e986",
   "metadata": {
    "_cell_guid": "54e28c8e-697a-4c88-bca3-6c1675f352ec",
    "_uuid": "dcb50715-f809-4fdf-b26a-a08f37068a33",
    "execution": {
     "iopub.execute_input": "2022-12-24T17:07:13.560669Z",
     "iopub.status.busy": "2022-12-24T17:07:13.560224Z",
     "iopub.status.idle": "2022-12-24T17:07:14.172467Z",
     "shell.execute_reply": "2022-12-24T17:07:14.171604Z"
    },
    "jupyter": {
     "outputs_hidden": false
    },
    "papermill": {
     "duration": 0.634256,
     "end_time": "2022-12-24T17:07:14.174820",
     "exception": false,
     "start_time": "2022-12-24T17:07:13.540564",
     "status": "completed"
    },
    "tags": []
   },
   "outputs": [],
   "source": [
    "print(train_test.isnull().sum())\n",
    "sns.heatmap(train_test.isnull())"
   ]
  },
  {
   "cell_type": "markdown",
   "id": "203e2e8c",
   "metadata": {
    "papermill": {
     "duration": 0.018585,
     "end_time": "2022-12-24T17:07:14.212155",
     "exception": false,
     "start_time": "2022-12-24T17:07:14.193570",
     "status": "completed"
    },
    "tags": []
   },
   "source": [
    "## ##### **4.1.Expenses+CryoSleep**"
   ]
  },
  {
   "cell_type": "code",
   "execution_count": null,
   "id": "2b620d54",
   "metadata": {
    "_cell_guid": "2f78e892-9961-4846-ab4f-8bea9074e566",
    "_uuid": "eec7f859-db11-4e3a-a6c2-0d38e7a1b626",
    "execution": {
     "iopub.execute_input": "2022-12-24T17:07:14.251566Z",
     "iopub.status.busy": "2022-12-24T17:07:14.250676Z",
     "iopub.status.idle": "2022-12-24T17:07:14.255455Z",
     "shell.execute_reply": "2022-12-24T17:07:14.254683Z"
    },
    "jupyter": {
     "outputs_hidden": false
    },
    "papermill": {
     "duration": 0.027046,
     "end_time": "2022-12-24T17:07:14.257755",
     "exception": false,
     "start_time": "2022-12-24T17:07:14.230709",
     "status": "completed"
    },
    "tags": []
   },
   "outputs": [],
   "source": [
    "Expenses_columns = ['RoomService','FoodCourt','ShoppingMall','Spa','VRDeck']"
   ]
  },
  {
   "cell_type": "code",
   "execution_count": null,
   "id": "034060b3",
   "metadata": {
    "execution": {
     "iopub.execute_input": "2022-12-24T17:07:14.297171Z",
     "iopub.status.busy": "2022-12-24T17:07:14.296456Z",
     "iopub.status.idle": "2022-12-24T17:07:14.300901Z",
     "shell.execute_reply": "2022-12-24T17:07:14.299880Z"
    },
    "papermill": {
     "duration": 0.02647,
     "end_time": "2022-12-24T17:07:14.303074",
     "exception": false,
     "start_time": "2022-12-24T17:07:14.276604",
     "status": "completed"
    },
    "tags": []
   },
   "outputs": [],
   "source": [
    "################################################################################################################\n",
    "### Let's fill in missing cost with \"0\" if a passenger was in CryoSleep. If you sleep you don't spend money. ###\n",
    "################################################################################################################"
   ]
  },
  {
   "cell_type": "code",
   "execution_count": null,
   "id": "af60bbae",
   "metadata": {
    "_cell_guid": "5123c8df-f7b5-4bf6-ab42-6bfe0680010f",
    "_uuid": "f89382b1-97b1-49fb-9de5-00d9c8a070b1",
    "execution": {
     "iopub.execute_input": "2022-12-24T17:07:14.342484Z",
     "iopub.status.busy": "2022-12-24T17:07:14.342078Z",
     "iopub.status.idle": "2022-12-24T17:07:15.303743Z",
     "shell.execute_reply": "2022-12-24T17:07:15.302570Z"
    },
    "jupyter": {
     "outputs_hidden": false
    },
    "papermill": {
     "duration": 0.984679,
     "end_time": "2022-12-24T17:07:15.306686",
     "exception": false,
     "start_time": "2022-12-24T17:07:14.322007",
     "status": "completed"
    },
    "tags": []
   },
   "outputs": [],
   "source": [
    "train_test.loc[:,Expenses_columns]=train_test.apply(lambda x: 0 if x.CryoSleep == True else x,axis =1)"
   ]
  },
  {
   "cell_type": "markdown",
   "id": "f02fe04c",
   "metadata": {
    "papermill": {
     "duration": 0.018261,
     "end_time": "2022-12-24T17:07:15.358933",
     "exception": false,
     "start_time": "2022-12-24T17:07:15.340672",
     "status": "completed"
    },
    "tags": []
   },
   "source": [
    "## **##### 4.2.CryoSleep + Expenses**"
   ]
  },
  {
   "cell_type": "code",
   "execution_count": null,
   "id": "cbf4bb83",
   "metadata": {
    "execution": {
     "iopub.execute_input": "2022-12-24T17:07:15.397608Z",
     "iopub.status.busy": "2022-12-24T17:07:15.397180Z",
     "iopub.status.idle": "2022-12-24T17:07:15.401505Z",
     "shell.execute_reply": "2022-12-24T17:07:15.400719Z"
    },
    "papermill": {
     "duration": 0.026229,
     "end_time": "2022-12-24T17:07:15.403592",
     "exception": false,
     "start_time": "2022-12-24T17:07:15.377363",
     "status": "completed"
    },
    "tags": []
   },
   "outputs": [],
   "source": [
    "#############################################################################################################\n",
    "### From the description of the contest guidelines we can conclude that if a person is in cryosleep,      ###\n",
    "### he cannot spend money to buy additional services. Moreover, when filling in the missing information   ###\n",
    "### in the columns: 'Age,RoomService, FoodCourt, ShoppingMall, Spa, VRDec'k, we should remember this      ###\n",
    "### same feature of cryosleep. Let's fill in the missing information based on this conclusion.            ###\n",
    "#############################################################################################################"
   ]
  },
  {
   "cell_type": "code",
   "execution_count": null,
   "id": "c94144c0",
   "metadata": {
    "execution": {
     "iopub.execute_input": "2022-12-24T17:07:15.442763Z",
     "iopub.status.busy": "2022-12-24T17:07:15.441980Z",
     "iopub.status.idle": "2022-12-24T17:07:15.446200Z",
     "shell.execute_reply": "2022-12-24T17:07:15.445417Z"
    },
    "papermill": {
     "duration": 0.026105,
     "end_time": "2022-12-24T17:07:15.448191",
     "exception": false,
     "start_time": "2022-12-24T17:07:15.422086",
     "status": "completed"
    },
    "tags": []
   },
   "outputs": [],
   "source": [
    "################################################################################\n",
    "### First of all, let's create an additional column and call it \"expenses\".  ###\n",
    "### Expenses = Age + RoomService + FoodCourt + ShoppingMall + Spa + VRDec'k  ###\n",
    "################################################################################"
   ]
  },
  {
   "cell_type": "code",
   "execution_count": null,
   "id": "a6eb68a0",
   "metadata": {
    "_cell_guid": "68a3af2d-f7ba-44a0-a854-9b0dd1fed38a",
    "_uuid": "f289b27f-cce7-4c8b-9736-cc6abe483d2b",
    "execution": {
     "iopub.execute_input": "2022-12-24T17:07:15.487642Z",
     "iopub.status.busy": "2022-12-24T17:07:15.487203Z",
     "iopub.status.idle": "2022-12-24T17:07:15.495063Z",
     "shell.execute_reply": "2022-12-24T17:07:15.494007Z"
    },
    "jupyter": {
     "outputs_hidden": false
    },
    "papermill": {
     "duration": 0.03007,
     "end_time": "2022-12-24T17:07:15.497306",
     "exception": false,
     "start_time": "2022-12-24T17:07:15.467236",
     "status": "completed"
    },
    "tags": []
   },
   "outputs": [],
   "source": [
    "train_test['Expenses'] = train_test.loc[:,Expenses_columns].sum(axis=1)"
   ]
  },
  {
   "cell_type": "code",
   "execution_count": null,
   "id": "282d8fba",
   "metadata": {
    "_cell_guid": "255f9952-70b6-4e3d-adbc-834b3ce33889",
    "_uuid": "0020e5cc-fd11-4b7a-bbd6-e44d63417d05",
    "execution": {
     "iopub.execute_input": "2022-12-24T17:07:15.537250Z",
     "iopub.status.busy": "2022-12-24T17:07:15.536846Z",
     "iopub.status.idle": "2022-12-24T17:07:16.628615Z",
     "shell.execute_reply": "2022-12-24T17:07:16.627693Z"
    },
    "jupyter": {
     "outputs_hidden": false
    },
    "papermill": {
     "duration": 1.115324,
     "end_time": "2022-12-24T17:07:16.631274",
     "exception": false,
     "start_time": "2022-12-24T17:07:15.515950",
     "status": "completed"
    },
    "tags": []
   },
   "outputs": [],
   "source": [
    "train_test.loc[:,['CryoSleep']]=train_test.apply(lambda x: True if x.Expenses == 0 and pd.isna(x.CryoSleep) else x,axis =1)"
   ]
  },
  {
   "cell_type": "markdown",
   "id": "2c1f1815",
   "metadata": {
    "papermill": {
     "duration": 0.018687,
     "end_time": "2022-12-24T17:07:16.668877",
     "exception": false,
     "start_time": "2022-12-24T17:07:16.650190",
     "status": "completed"
    },
    "tags": []
   },
   "source": [
    "## **##### 4.3.Name**"
   ]
  },
  {
   "cell_type": "code",
   "execution_count": null,
   "id": "01f14171",
   "metadata": {
    "execution": {
     "iopub.execute_input": "2022-12-24T17:07:16.709093Z",
     "iopub.status.busy": "2022-12-24T17:07:16.708363Z",
     "iopub.status.idle": "2022-12-24T17:07:16.712943Z",
     "shell.execute_reply": "2022-12-24T17:07:16.711875Z"
    },
    "papermill": {
     "duration": 0.02689,
     "end_time": "2022-12-24T17:07:16.715078",
     "exception": false,
     "start_time": "2022-12-24T17:07:16.688188",
     "status": "completed"
    },
    "tags": []
   },
   "outputs": [],
   "source": [
    "################################################################################\n",
    "### I am not sure that we are able to restore some information about Names.  ###\n",
    "### Let's fill in this columns with \"Unknown Unknown\", because maybe in the  ###\n",
    "### future we will have to split the column.                                 ###\n",
    "################################################################################\n"
   ]
  },
  {
   "cell_type": "code",
   "execution_count": null,
   "id": "f347ed6a",
   "metadata": {
    "_cell_guid": "71ec32fd-f429-4305-bc1b-3952c283f8b8",
    "_uuid": "4561a199-fc30-42bb-b5f2-9873961a115b",
    "execution": {
     "iopub.execute_input": "2022-12-24T17:07:16.754827Z",
     "iopub.status.busy": "2022-12-24T17:07:16.753735Z",
     "iopub.status.idle": "2022-12-24T17:07:16.760074Z",
     "shell.execute_reply": "2022-12-24T17:07:16.759344Z"
    },
    "jupyter": {
     "outputs_hidden": false
    },
    "papermill": {
     "duration": 0.028241,
     "end_time": "2022-12-24T17:07:16.762100",
     "exception": false,
     "start_time": "2022-12-24T17:07:16.733859",
     "status": "completed"
    },
    "tags": []
   },
   "outputs": [],
   "source": [
    "train_test.Name = train_test.Name.fillna('Unknown Unknown')"
   ]
  },
  {
   "cell_type": "markdown",
   "id": "aec23b14",
   "metadata": {
    "papermill": {
     "duration": 0.018615,
     "end_time": "2022-12-24T17:07:16.799580",
     "exception": false,
     "start_time": "2022-12-24T17:07:16.780965",
     "status": "completed"
    },
    "tags": []
   },
   "source": [
    "## **##### 4.4.Cabin**"
   ]
  },
  {
   "cell_type": "code",
   "execution_count": null,
   "id": "2e555ea1",
   "metadata": {
    "execution": {
     "iopub.execute_input": "2022-12-24T17:07:16.838649Z",
     "iopub.status.busy": "2022-12-24T17:07:16.837733Z",
     "iopub.status.idle": "2022-12-24T17:07:16.842687Z",
     "shell.execute_reply": "2022-12-24T17:07:16.841721Z"
    },
    "papermill": {
     "duration": 0.026669,
     "end_time": "2022-12-24T17:07:16.844794",
     "exception": false,
     "start_time": "2022-12-24T17:07:16.818125",
     "status": "completed"
    },
    "tags": []
   },
   "outputs": [],
   "source": [
    "##################################################################\n",
    "### We have to check PassengerId carefully. Because it         ###\n",
    "### contains room numbers. So it will help us to find          ###\n",
    "### the miss Cabin, VIP status, HomePlanet and Destination.    ###\n",
    "##################################################################"
   ]
  },
  {
   "cell_type": "code",
   "execution_count": null,
   "id": "bc56db46",
   "metadata": {
    "_cell_guid": "55c9b0a0-0a9f-4d1c-b137-5de0a9108f92",
    "_uuid": "7cfc7ce5-2687-45dd-af7c-9ff64a172c0a",
    "execution": {
     "iopub.execute_input": "2022-12-24T17:07:16.883885Z",
     "iopub.status.busy": "2022-12-24T17:07:16.883191Z",
     "iopub.status.idle": "2022-12-24T17:07:16.984181Z",
     "shell.execute_reply": "2022-12-24T17:07:16.982941Z"
    },
    "jupyter": {
     "outputs_hidden": false
    },
    "papermill": {
     "duration": 0.123621,
     "end_time": "2022-12-24T17:07:16.986866",
     "exception": false,
     "start_time": "2022-12-24T17:07:16.863245",
     "status": "completed"
    },
    "tags": []
   },
   "outputs": [],
   "source": [
    "train_test.loc[:,['Room']] = train_test.PassengerId.apply(lambda x: x[0:4] )\n",
    "#Here I want to create handbooks to fill in informations in Cabin, VIP status, HomePlanet and Destination.\n",
    "guide_VIP=train_test.loc[:,['Room','VIP']].dropna().drop_duplicates('Room')\n",
    "guide_Cabin=train_test.loc[:,['Room','Cabin']].dropna().drop_duplicates('Room')\n",
    "guide_HomePlanet=train_test.loc[:,['Room','HomePlanet']].dropna().drop_duplicates('Room')\n",
    "guide_Destination=train_test.loc[:,['Room','Destination']].dropna().drop_duplicates('Room')\n",
    "train_test=pd.merge(train_test,guide_Cabin,how=\"left\",on='Room',suffixes=('','_y'))\n",
    "train_test=pd.merge(train_test,guide_VIP,how=\"left\",on='Room',suffixes=('','_y'))\n",
    "train_test=pd.merge(train_test,guide_HomePlanet,how=\"left\",on='Room',suffixes=('','_y'))\n",
    "train_test=pd.merge(train_test,guide_Destination,how=\"left\",on='Room',suffixes=('','_y'))"
   ]
  },
  {
   "cell_type": "code",
   "execution_count": null,
   "id": "22ef1073",
   "metadata": {
    "_cell_guid": "96d3b49a-466a-4ca8-9505-2765cd1dd233",
    "_uuid": "abf325cf-993f-4ea9-bf4f-b02455c19981",
    "execution": {
     "iopub.execute_input": "2022-12-24T17:07:17.026079Z",
     "iopub.status.busy": "2022-12-24T17:07:17.025233Z",
     "iopub.status.idle": "2022-12-24T17:07:21.423921Z",
     "shell.execute_reply": "2022-12-24T17:07:21.422919Z"
    },
    "jupyter": {
     "outputs_hidden": false
    },
    "papermill": {
     "duration": 4.420933,
     "end_time": "2022-12-24T17:07:21.426515",
     "exception": false,
     "start_time": "2022-12-24T17:07:17.005582",
     "status": "completed"
    },
    "tags": []
   },
   "outputs": [],
   "source": [
    "train_test.loc[:,['VIP']]=train_test.apply(lambda x: x.VIP_y if pd.isna(x.VIP) else x,axis=1)\n",
    "train_test.loc[:,['Cabin']]=train_test.apply(lambda x:  x.Cabin_y if pd.isna(x.Cabin) else x,axis=1)\n",
    "train_test.loc[:,['HomePlanet']]=train_test.apply(lambda x:  x.HomePlanet_y if pd.isna(x.HomePlanet) else x,axis=1)\n",
    "train_test.loc[:,['Destination']]=train_test.apply(lambda x:  x.Destination_y if pd.isna(x.Destination) else x,axis=1)"
   ]
  },
  {
   "cell_type": "code",
   "execution_count": null,
   "id": "9e5d0fec",
   "metadata": {
    "_cell_guid": "d572a7ce-657b-4b87-a0b8-0437682fc064",
    "_uuid": "921262b1-d0d1-40ad-ac90-fc3cdebd5d90",
    "execution": {
     "iopub.execute_input": "2022-12-24T17:07:21.465832Z",
     "iopub.status.busy": "2022-12-24T17:07:21.465416Z",
     "iopub.status.idle": "2022-12-24T17:07:21.504424Z",
     "shell.execute_reply": "2022-12-24T17:07:21.503108Z"
    },
    "jupyter": {
     "outputs_hidden": false
    },
    "papermill": {
     "duration": 0.061948,
     "end_time": "2022-12-24T17:07:21.506927",
     "exception": false,
     "start_time": "2022-12-24T17:07:21.444979",
     "status": "completed"
    },
    "tags": []
   },
   "outputs": [],
   "source": [
    "train_test[train_test.Cabin.isnull()]"
   ]
  },
  {
   "cell_type": "code",
   "execution_count": null,
   "id": "ef43beaf",
   "metadata": {
    "_cell_guid": "8553d7a9-6e92-40b9-bf68-d8bbf58086e9",
    "_uuid": "7c70ecd0-d17a-4afe-aa26-85ed17da77db",
    "execution": {
     "iopub.execute_input": "2022-12-24T17:07:21.547548Z",
     "iopub.status.busy": "2022-12-24T17:07:21.546897Z",
     "iopub.status.idle": "2022-12-24T17:07:22.817542Z",
     "shell.execute_reply": "2022-12-24T17:07:22.816045Z"
    },
    "jupyter": {
     "outputs_hidden": false
    },
    "papermill": {
     "duration": 1.294039,
     "end_time": "2022-12-24T17:07:22.820156",
     "exception": false,
     "start_time": "2022-12-24T17:07:21.526117",
     "status": "completed"
    },
    "tags": []
   },
   "outputs": [],
   "source": [
    "fig,ax = plt.subplots(figsize=(30,10))\n",
    "pd.set_option('display.max_rows', 100)\n",
    "print(train_test.isnull().sum())\n",
    "sns.heatmap(train_test.isnull())"
   ]
  },
  {
   "cell_type": "markdown",
   "id": "b1f79eed",
   "metadata": {
    "papermill": {
     "duration": 0.019792,
     "end_time": "2022-12-24T17:07:22.860155",
     "exception": false,
     "start_time": "2022-12-24T17:07:22.840363",
     "status": "completed"
    },
    "tags": []
   },
   "source": [
    "## **##### 4.5.Age**"
   ]
  },
  {
   "cell_type": "code",
   "execution_count": null,
   "id": "c2eee36d",
   "metadata": {
    "execution": {
     "iopub.execute_input": "2022-12-24T17:07:22.902514Z",
     "iopub.status.busy": "2022-12-24T17:07:22.901915Z",
     "iopub.status.idle": "2022-12-24T17:07:22.905442Z",
     "shell.execute_reply": "2022-12-24T17:07:22.904743Z"
    },
    "papermill": {
     "duration": 0.027401,
     "end_time": "2022-12-24T17:07:22.907490",
     "exception": false,
     "start_time": "2022-12-24T17:07:22.880089",
     "status": "completed"
    },
    "tags": []
   },
   "outputs": [],
   "source": [
    "##########################################################################\n",
    "### Let's see how Age depends on other columns to find some miss data. ###\n",
    "##########################################################################"
   ]
  },
  {
   "cell_type": "code",
   "execution_count": null,
   "id": "8a01da9b",
   "metadata": {
    "_cell_guid": "5734538e-1327-40e5-a2e9-29855f710618",
    "_uuid": "90adba94-17af-43d7-8a99-87af8e0f1857",
    "execution": {
     "iopub.execute_input": "2022-12-24T17:07:22.949187Z",
     "iopub.status.busy": "2022-12-24T17:07:22.948593Z",
     "iopub.status.idle": "2022-12-24T17:07:23.419404Z",
     "shell.execute_reply": "2022-12-24T17:07:23.418317Z"
    },
    "jupyter": {
     "outputs_hidden": false
    },
    "papermill": {
     "duration": 0.494356,
     "end_time": "2022-12-24T17:07:23.421722",
     "exception": false,
     "start_time": "2022-12-24T17:07:22.927366",
     "status": "completed"
    },
    "tags": []
   },
   "outputs": [],
   "source": [
    "fig, ax = plt.subplots(figsize=(15,5))\n",
    "sns.heatmap(train_test.corr(),annot=True)"
   ]
  },
  {
   "cell_type": "code",
   "execution_count": null,
   "id": "73bad86f",
   "metadata": {
    "_cell_guid": "a127bd6d-e011-4519-aca0-5d544dc661a0",
    "_uuid": "f4bb0722-7821-405c-aa38-887c3b33f3f7",
    "execution": {
     "iopub.execute_input": "2022-12-24T17:07:23.464792Z",
     "iopub.status.busy": "2022-12-24T17:07:23.464363Z",
     "iopub.status.idle": "2022-12-24T17:07:23.721034Z",
     "shell.execute_reply": "2022-12-24T17:07:23.719906Z"
    },
    "jupyter": {
     "outputs_hidden": false
    },
    "papermill": {
     "duration": 0.280902,
     "end_time": "2022-12-24T17:07:23.723317",
     "exception": false,
     "start_time": "2022-12-24T17:07:23.442415",
     "status": "completed"
    },
    "tags": []
   },
   "outputs": [],
   "source": [
    "fig, ax = plt.subplots(figsize=(15,5))\n",
    "analys = train_test.loc[:,['Age','Expenses']]\n",
    "ax.scatter(analys.Age,analys.Expenses)"
   ]
  },
  {
   "cell_type": "code",
   "execution_count": null,
   "id": "6cbee219",
   "metadata": {
    "_cell_guid": "67d64d40-7021-4488-81b2-bc72d499cff9",
    "_uuid": "8b9ab285-2346-4d09-83c7-faf588ccfa1c",
    "execution": {
     "iopub.execute_input": "2022-12-24T17:07:23.767603Z",
     "iopub.status.busy": "2022-12-24T17:07:23.767194Z",
     "iopub.status.idle": "2022-12-24T17:07:24.454498Z",
     "shell.execute_reply": "2022-12-24T17:07:24.453657Z"
    },
    "jupyter": {
     "outputs_hidden": false
    },
    "papermill": {
     "duration": 0.712235,
     "end_time": "2022-12-24T17:07:24.456868",
     "exception": false,
     "start_time": "2022-12-24T17:07:23.744633",
     "status": "completed"
    },
    "tags": []
   },
   "outputs": [],
   "source": [
    "pd.set_option('display.max_rows', 100)\n",
    "print(train_test.isnull().sum())\n",
    "sns.heatmap(train_test.isnull())"
   ]
  },
  {
   "cell_type": "markdown",
   "id": "f7da9b0b",
   "metadata": {
    "papermill": {
     "duration": 0.021717,
     "end_time": "2022-12-24T17:07:24.501075",
     "exception": false,
     "start_time": "2022-12-24T17:07:24.479358",
     "status": "completed"
    },
    "tags": []
   },
   "source": [
    "## **##### 4.6.HomePlanet + Destination.**"
   ]
  },
  {
   "cell_type": "code",
   "execution_count": null,
   "id": "e27c154c",
   "metadata": {
    "_cell_guid": "bf166194-51e8-4db0-907f-c155419bde97",
    "_uuid": "b9e160ad-3ac2-4dad-9abc-ef4bda63ff85",
    "execution": {
     "iopub.execute_input": "2022-12-24T17:07:24.547213Z",
     "iopub.status.busy": "2022-12-24T17:07:24.546290Z",
     "iopub.status.idle": "2022-12-24T17:07:24.561838Z",
     "shell.execute_reply": "2022-12-24T17:07:24.561077Z"
    },
    "jupyter": {
     "outputs_hidden": false
    },
    "papermill": {
     "duration": 0.040896,
     "end_time": "2022-12-24T17:07:24.563758",
     "exception": false,
     "start_time": "2022-12-24T17:07:24.522862",
     "status": "completed"
    },
    "tags": []
   },
   "outputs": [],
   "source": [
    "analys = train_test.loc[:,['HomePlanet','Destination']]\n",
    "analys['numeric'] =1\n",
    "analys.groupby(['Destination','HomePlanet']).count()"
   ]
  },
  {
   "cell_type": "code",
   "execution_count": null,
   "id": "67d921ce",
   "metadata": {
    "_cell_guid": "0ff7800f-679d-4056-b9cc-15aeb707227f",
    "_uuid": "d11c32a9-b778-4c5e-aff7-a4d60f08cd88",
    "execution": {
     "iopub.execute_input": "2022-12-24T17:07:24.609853Z",
     "iopub.status.busy": "2022-12-24T17:07:24.609135Z",
     "iopub.status.idle": "2022-12-24T17:07:25.326320Z",
     "shell.execute_reply": "2022-12-24T17:07:25.325436Z"
    },
    "jupyter": {
     "outputs_hidden": false
    },
    "papermill": {
     "duration": 0.742702,
     "end_time": "2022-12-24T17:07:25.328582",
     "exception": false,
     "start_time": "2022-12-24T17:07:24.585880",
     "status": "completed"
    },
    "tags": []
   },
   "outputs": [],
   "source": [
    "pd.set_option('display.max_rows', 100)\n",
    "print(train_test.isnull().sum())\n",
    "sns.heatmap(train_test.isnull())"
   ]
  },
  {
   "cell_type": "markdown",
   "id": "c3324d47",
   "metadata": {
    "papermill": {
     "duration": 0.022421,
     "end_time": "2022-12-24T17:07:25.373801",
     "exception": false,
     "start_time": "2022-12-24T17:07:25.351380",
     "status": "completed"
    },
    "tags": []
   },
   "source": [
    "## **##### 4.7.Split Cabin.**"
   ]
  },
  {
   "cell_type": "code",
   "execution_count": null,
   "id": "c8d131e7",
   "metadata": {
    "execution": {
     "iopub.execute_input": "2022-12-24T17:07:25.420448Z",
     "iopub.status.busy": "2022-12-24T17:07:25.420029Z",
     "iopub.status.idle": "2022-12-24T17:07:25.424709Z",
     "shell.execute_reply": "2022-12-24T17:07:25.423602Z"
    },
    "papermill": {
     "duration": 0.030792,
     "end_time": "2022-12-24T17:07:25.427036",
     "exception": false,
     "start_time": "2022-12-24T17:07:25.396244",
     "status": "completed"
    },
    "tags": []
   },
   "outputs": [],
   "source": [
    "#######################################################\n",
    "### Let's split the column and drop usless columns. ###\n",
    "#######################################################"
   ]
  },
  {
   "cell_type": "code",
   "execution_count": null,
   "id": "c7807c63",
   "metadata": {
    "_cell_guid": "be655a54-c761-4658-ade1-5af0476a7320",
    "_uuid": "6dcb0b72-0bf1-444a-9d41-2c6bf6427d0f",
    "execution": {
     "iopub.execute_input": "2022-12-24T17:07:25.475285Z",
     "iopub.status.busy": "2022-12-24T17:07:25.474097Z",
     "iopub.status.idle": "2022-12-24T17:07:25.547464Z",
     "shell.execute_reply": "2022-12-24T17:07:25.546580Z"
    },
    "jupyter": {
     "outputs_hidden": false
    },
    "papermill": {
     "duration": 0.100327,
     "end_time": "2022-12-24T17:07:25.550172",
     "exception": false,
     "start_time": "2022-12-24T17:07:25.449845",
     "status": "completed"
    },
    "tags": []
   },
   "outputs": [],
   "source": [
    "train_test.loc[:,['Cabin_1']] = train_test.Cabin.str.split(\"/\",expand=True).iloc[:,0]\n",
    "train_test.loc[:,['Cabin_2']] = train_test.Cabin.str.split(\"/\",expand=True).iloc[:,1]\n",
    "train_test.loc[:,['Cabin_3']] = train_test.Cabin.str.split(\"/\",expand=True).iloc[:,2]"
   ]
  },
  {
   "cell_type": "code",
   "execution_count": null,
   "id": "b8dfa47a",
   "metadata": {
    "execution": {
     "iopub.execute_input": "2022-12-24T17:07:25.597768Z",
     "iopub.status.busy": "2022-12-24T17:07:25.596989Z",
     "iopub.status.idle": "2022-12-24T17:07:25.651032Z",
     "shell.execute_reply": "2022-12-24T17:07:25.650088Z"
    },
    "papermill": {
     "duration": 0.080871,
     "end_time": "2022-12-24T17:07:25.653827",
     "exception": false,
     "start_time": "2022-12-24T17:07:25.572956",
     "status": "completed"
    },
    "tags": []
   },
   "outputs": [],
   "source": [
    "train_test.loc[:,['FirstName']] = train_test.Name.str.split(\" \",expand=True).iloc[:,0]\n",
    "train_test.loc[:,['SecondName']] = train_test.Name.str.split(\" \",expand=True).iloc[:,1]\n",
    "train_test['Name_key']=train_test['SecondName']+train_test['Room']"
   ]
  },
  {
   "cell_type": "markdown",
   "id": "4108aec5",
   "metadata": {
    "papermill": {
     "duration": 0.023188,
     "end_time": "2022-12-24T17:07:25.700436",
     "exception": false,
     "start_time": "2022-12-24T17:07:25.677248",
     "status": "completed"
    },
    "tags": []
   },
   "source": [
    "## **##### 4.8.Let's apply SimpleImputer + OneHotEncoder.**"
   ]
  },
  {
   "cell_type": "code",
   "execution_count": null,
   "id": "71669762",
   "metadata": {
    "_cell_guid": "2d7f8181-c940-4bc6-8383-9e94f4895cea",
    "_uuid": "d9b09e8d-ea2d-432d-a3e5-aa3ad0a2ace7",
    "execution": {
     "iopub.execute_input": "2022-12-24T17:07:25.746954Z",
     "iopub.status.busy": "2022-12-24T17:07:25.746578Z",
     "iopub.status.idle": "2022-12-24T17:07:25.821355Z",
     "shell.execute_reply": "2022-12-24T17:07:25.820400Z"
    },
    "jupyter": {
     "outputs_hidden": false
    },
    "papermill": {
     "duration": 0.101089,
     "end_time": "2022-12-24T17:07:25.823993",
     "exception": false,
     "start_time": "2022-12-24T17:07:25.722904",
     "status": "completed"
    },
    "tags": []
   },
   "outputs": [],
   "source": [
    "num_cols = ['ShoppingMall','FoodCourt','RoomService','Spa','VRDeck','Expenses','Age']\n",
    "cat_cols = ['CryoSleep','Cabin_1','Cabin_3','VIP','HomePlanet','Destination']\n",
    "transported=['Transported']\n",
    "#notvg = ['HomePlanet','VIP','ShoppingMall','FoodCourt','Age','Cabin_2','Destination']\n",
    "train_test = train_test[num_cols+cat_cols+transported].copy()\n",
    "\n",
    "num_imp = SimpleImputer(strategy='mean')\n",
    "cat_imp = SimpleImputer(strategy='most_frequent')\n",
    "ohe = OneHotEncoder (handle_unknown='ignore',sparse = False)\n",
    "\n",
    "\n",
    "train_test[num_cols] = pd.DataFrame(num_imp.fit_transform(train_test[num_cols]),columns=num_cols)\n",
    "train_test[cat_cols] = pd.DataFrame(cat_imp.fit_transform(train_test[cat_cols]),columns=cat_cols)\n",
    "temp_train = pd.DataFrame(ohe.fit_transform(train_test[cat_cols]),columns= ohe.get_feature_names_out())\n",
    "train_test = train_test.drop(cat_cols,axis=1)\n",
    "train_test = pd.concat([train_test,temp_train],axis=1)\n"
   ]
  },
  {
   "cell_type": "markdown",
   "id": "20675d03",
   "metadata": {
    "papermill": {
     "duration": 0.022996,
     "end_time": "2022-12-24T17:07:25.869783",
     "exception": false,
     "start_time": "2022-12-24T17:07:25.846787",
     "status": "completed"
    },
    "tags": []
   },
   "source": [
    "## **##### 4.9.Let's split train and test set.**"
   ]
  },
  {
   "cell_type": "code",
   "execution_count": null,
   "id": "79fb5230",
   "metadata": {
    "_cell_guid": "b2ed8583-c551-43bc-95a9-a1c3c81b0f1b",
    "_uuid": "d9e24109-64ef-43d0-8f68-a5891772406c",
    "execution": {
     "iopub.execute_input": "2022-12-24T17:07:25.916438Z",
     "iopub.status.busy": "2022-12-24T17:07:25.916038Z",
     "iopub.status.idle": "2022-12-24T17:07:25.931363Z",
     "shell.execute_reply": "2022-12-24T17:07:25.930096Z"
    },
    "jupyter": {
     "outputs_hidden": false
    },
    "papermill": {
     "duration": 0.041293,
     "end_time": "2022-12-24T17:07:25.933613",
     "exception": false,
     "start_time": "2022-12-24T17:07:25.892320",
     "status": "completed"
    },
    "tags": []
   },
   "outputs": [],
   "source": [
    "train = train_test[train_test['Transported'].notnull()].copy()\n",
    "train.Transported =train.Transported.astype('int')\n",
    "test = train_test[train_test['Transported'].isnull()].drop(\"Transported\",axis=1)"
   ]
  },
  {
   "cell_type": "code",
   "execution_count": null,
   "id": "80738b34",
   "metadata": {
    "execution": {
     "iopub.execute_input": "2022-12-24T17:07:25.980786Z",
     "iopub.status.busy": "2022-12-24T17:07:25.980368Z",
     "iopub.status.idle": "2022-12-24T17:07:25.987011Z",
     "shell.execute_reply": "2022-12-24T17:07:25.985927Z"
    },
    "papermill": {
     "duration": 0.03309,
     "end_time": "2022-12-24T17:07:25.989218",
     "exception": false,
     "start_time": "2022-12-24T17:07:25.956128",
     "status": "completed"
    },
    "tags": []
   },
   "outputs": [],
   "source": [
    "X = train.drop('Transported',axis=1)\n",
    "y = train.Transported"
   ]
  },
  {
   "cell_type": "code",
   "execution_count": null,
   "id": "7d96ebeb",
   "metadata": {
    "execution": {
     "iopub.execute_input": "2022-12-24T17:07:26.036544Z",
     "iopub.status.busy": "2022-12-24T17:07:26.036122Z",
     "iopub.status.idle": "2022-12-24T17:07:26.045765Z",
     "shell.execute_reply": "2022-12-24T17:07:26.044664Z"
    },
    "papermill": {
     "duration": 0.036166,
     "end_time": "2022-12-24T17:07:26.048137",
     "exception": false,
     "start_time": "2022-12-24T17:07:26.011971",
     "status": "completed"
    },
    "tags": []
   },
   "outputs": [],
   "source": [
    "X,y = shuffle(X,y)\n",
    "X = X.reset_index(drop=True)\n",
    "y = y.reset_index(drop=True)"
   ]
  },
  {
   "cell_type": "code",
   "execution_count": null,
   "id": "615334b9",
   "metadata": {
    "execution": {
     "iopub.execute_input": "2022-12-24T17:07:26.095587Z",
     "iopub.status.busy": "2022-12-24T17:07:26.094668Z",
     "iopub.status.idle": "2022-12-24T17:09:28.067035Z",
     "shell.execute_reply": "2022-12-24T17:09:28.065626Z"
    },
    "papermill": {
     "duration": 122.016352,
     "end_time": "2022-12-24T17:09:28.087175",
     "exception": false,
     "start_time": "2022-12-24T17:07:26.070823",
     "status": "completed"
    },
    "tags": []
   },
   "outputs": [],
   "source": [
    "print(get_score(xgb.XGBClassifier(**params_XGB_best),X,y).mean())"
   ]
  },
  {
   "cell_type": "markdown",
   "id": "15998218",
   "metadata": {
    "papermill": {
     "duration": 0.022605,
     "end_time": "2022-12-24T17:09:28.133247",
     "exception": false,
     "start_time": "2022-12-24T17:09:28.110642",
     "status": "completed"
    },
    "tags": []
   },
   "source": [
    "## **##### 4.10.Let's deal with outliers.**"
   ]
  },
  {
   "cell_type": "code",
   "execution_count": null,
   "id": "57424ba4",
   "metadata": {
    "execution": {
     "iopub.execute_input": "2022-12-24T17:09:28.179924Z",
     "iopub.status.busy": "2022-12-24T17:09:28.179515Z",
     "iopub.status.idle": "2022-12-24T17:09:28.184862Z",
     "shell.execute_reply": "2022-12-24T17:09:28.183983Z"
    },
    "papermill": {
     "duration": 0.031279,
     "end_time": "2022-12-24T17:09:28.186895",
     "exception": false,
     "start_time": "2022-12-24T17:09:28.155616",
     "status": "completed"
    },
    "tags": []
   },
   "outputs": [],
   "source": [
    "features_isolation =['ShoppingMall','FoodCourt','RoomService','Spa','VRDeck','Age']"
   ]
  },
  {
   "cell_type": "code",
   "execution_count": null,
   "id": "f8949bfe",
   "metadata": {
    "execution": {
     "iopub.execute_input": "2022-12-24T17:09:28.235102Z",
     "iopub.status.busy": "2022-12-24T17:09:28.233946Z",
     "iopub.status.idle": "2022-12-24T17:09:30.004464Z",
     "shell.execute_reply": "2022-12-24T17:09:30.003355Z"
    },
    "papermill": {
     "duration": 1.798245,
     "end_time": "2022-12-24T17:09:30.008151",
     "exception": false,
     "start_time": "2022-12-24T17:09:28.209906",
     "status": "completed"
    },
    "tags": []
   },
   "outputs": [],
   "source": [
    "from sklearn.ensemble import IsolationForest\n",
    "\n",
    "isf = IsolationForest(n_jobs=-1, random_state=1,n_estimators=100,contamination=0.003)\n",
    "isf.fit(X[features_isolation], y)\n",
    "\n",
    "rows = pd.DataFrame(isf.predict(X[features_isolation]),columns=['feature'])\n",
    "rows_ind = rows[rows.feature == 1]\n",
    "results = pd.DataFrame()\n",
    "results['results'] = - isf.score_samples(X[features_isolation])\n",
    "results['chance'] = isf.decision_function(X[features_isolation])\n",
    "results['yes/no'] = isf.predict(X[features_isolation])\n",
    "\n",
    "new = results[results['yes/no']==1]\n",
    "old= results[results['yes/no']==-1]\n",
    "fig,ax = plt.subplots(figsize=(20,10))\n",
    "ax.set_facecolor('black')\n",
    "ax = plt.scatter(new.index,new.results,marker=\".\")\n",
    "ax = plt.scatter(old.index,old.results,color='white',marker=\"*\")\n"
   ]
  },
  {
   "cell_type": "code",
   "execution_count": null,
   "id": "6b7a23aa",
   "metadata": {
    "execution": {
     "iopub.execute_input": "2022-12-24T17:09:30.061042Z",
     "iopub.status.busy": "2022-12-24T17:09:30.060644Z",
     "iopub.status.idle": "2022-12-24T17:09:30.068336Z",
     "shell.execute_reply": "2022-12-24T17:09:30.067404Z"
    },
    "papermill": {
     "duration": 0.036138,
     "end_time": "2022-12-24T17:09:30.070445",
     "exception": false,
     "start_time": "2022-12-24T17:09:30.034307",
     "status": "completed"
    },
    "tags": []
   },
   "outputs": [],
   "source": [
    "X_1 = X.iloc[rows_ind.index].reset_index(drop=True)\n",
    "y_1 = y.iloc[rows_ind.index].reset_index(drop=True) "
   ]
  },
  {
   "cell_type": "code",
   "execution_count": null,
   "id": "3b1dffd7",
   "metadata": {
    "execution": {
     "iopub.execute_input": "2022-12-24T17:09:30.122833Z",
     "iopub.status.busy": "2022-12-24T17:09:30.122060Z",
     "iopub.status.idle": "2022-12-24T17:11:30.977574Z",
     "shell.execute_reply": "2022-12-24T17:11:30.976582Z"
    },
    "papermill": {
     "duration": 120.902114,
     "end_time": "2022-12-24T17:11:30.997781",
     "exception": false,
     "start_time": "2022-12-24T17:09:30.095667",
     "status": "completed"
    },
    "tags": []
   },
   "outputs": [],
   "source": [
    "print(get_score(xgb.XGBClassifier(**params_XGB_best),X_1,y_1).mean())"
   ]
  },
  {
   "cell_type": "code",
   "execution_count": null,
   "id": "d829fb05",
   "metadata": {
    "execution": {
     "iopub.execute_input": "2022-12-24T17:11:31.052552Z",
     "iopub.status.busy": "2022-12-24T17:11:31.052123Z",
     "iopub.status.idle": "2022-12-24T17:11:31.057625Z",
     "shell.execute_reply": "2022-12-24T17:11:31.056256Z"
    },
    "papermill": {
     "duration": 0.034564,
     "end_time": "2022-12-24T17:11:31.059981",
     "exception": false,
     "start_time": "2022-12-24T17:11:31.025417",
     "status": "completed"
    },
    "tags": []
   },
   "outputs": [],
   "source": [
    "#############################################################\n",
    "### I found no evidence for the use of IsolationForest.   ###\n",
    "### The result got worse with different contamination.    ###\n",
    "#############################################################"
   ]
  },
  {
   "cell_type": "markdown",
   "id": "bd488f79",
   "metadata": {
    "papermill": {
     "duration": 0.025147,
     "end_time": "2022-12-24T17:11:31.110737",
     "exception": false,
     "start_time": "2022-12-24T17:11:31.085590",
     "status": "completed"
    },
    "tags": []
   },
   "source": [
    "## **##### 4.11.Permutation Importance.**"
   ]
  },
  {
   "cell_type": "code",
   "execution_count": null,
   "id": "f3f0c868",
   "metadata": {
    "execution": {
     "iopub.execute_input": "2022-12-24T17:11:31.163512Z",
     "iopub.status.busy": "2022-12-24T17:11:31.163111Z",
     "iopub.status.idle": "2022-12-24T17:11:35.006583Z",
     "shell.execute_reply": "2022-12-24T17:11:35.005573Z"
    },
    "papermill": {
     "duration": 3.877982,
     "end_time": "2022-12-24T17:11:35.013880",
     "exception": false,
     "start_time": "2022-12-24T17:11:31.135898",
     "status": "completed"
    },
    "tags": []
   },
   "outputs": [],
   "source": [
    "fig = plt.subplots(figsize=(30,10))   \n",
    "sns.heatmap(train.corr(),annot=True)\n"
   ]
  },
  {
   "cell_type": "code",
   "execution_count": null,
   "id": "0f2b96fc",
   "metadata": {
    "execution": {
     "iopub.execute_input": "2022-12-24T17:11:35.081123Z",
     "iopub.status.busy": "2022-12-24T17:11:35.080743Z",
     "iopub.status.idle": "2022-12-24T17:11:35.086473Z",
     "shell.execute_reply": "2022-12-24T17:11:35.085435Z"
    },
    "papermill": {
     "duration": 0.041639,
     "end_time": "2022-12-24T17:11:35.088508",
     "exception": false,
     "start_time": "2022-12-24T17:11:35.046869",
     "status": "completed"
    },
    "tags": []
   },
   "outputs": [],
   "source": [
    "params_XGB_best= {'lambda': 3.0610042624477543, \n",
    "             'alpha': 4.581902571574289, \n",
    "             'colsample_bytree': 0.9241969052729379, \n",
    "             'subsample': 0.9527591724824661, \n",
    "             'learning_rate': 0.06672065863100594, \n",
    "             'n_estimators': 725, #initial value is 651\n",
    "             'max_depth': 5, \n",
    "             'min_child_weight': 1, \n",
    "             'num_parallel_tree': 1}"
   ]
  },
  {
   "cell_type": "code",
   "execution_count": null,
   "id": "863a2ed9",
   "metadata": {
    "execution": {
     "iopub.execute_input": "2022-12-24T17:11:35.156120Z",
     "iopub.status.busy": "2022-12-24T17:11:35.155167Z",
     "iopub.status.idle": "2022-12-24T17:12:36.176384Z",
     "shell.execute_reply": "2022-12-24T17:12:36.175291Z"
    },
    "papermill": {
     "duration": 61.090287,
     "end_time": "2022-12-24T17:12:36.211066",
     "exception": false,
     "start_time": "2022-12-24T17:11:35.120779",
     "status": "completed"
    },
    "tags": []
   },
   "outputs": [],
   "source": [
    "perm = PermutationImportance(xgb.XGBClassifier(**params_XGB_best), random_state=1,n_iter =10,cv=5).fit(X, y)\n",
    "eli5.show_weights(perm, feature_names = X.columns.tolist(),top=50)"
   ]
  },
  {
   "cell_type": "code",
   "execution_count": null,
   "id": "eb1ff165",
   "metadata": {
    "execution": {
     "iopub.execute_input": "2022-12-24T17:12:36.278278Z",
     "iopub.status.busy": "2022-12-24T17:12:36.277849Z",
     "iopub.status.idle": "2022-12-24T17:12:36.282636Z",
     "shell.execute_reply": "2022-12-24T17:12:36.281600Z"
    },
    "papermill": {
     "duration": 0.041308,
     "end_time": "2022-12-24T17:12:36.284893",
     "exception": false,
     "start_time": "2022-12-24T17:12:36.243585",
     "status": "completed"
    },
    "tags": []
   },
   "outputs": [],
   "source": [
    "drop_list=['ShoppingMall','Age','CryoSleep_True','HomePlanet_Earth','HomePlanet_Europa',\n",
    "'VIP_True','HomePlanet_Mars','Destination_PSO J318.5-22','VIP_False',\n",
    "'Destination_55 Cancri e','FoodCourt','Destination_TRAPPIST-1e']"
   ]
  },
  {
   "cell_type": "code",
   "execution_count": null,
   "id": "96b62746",
   "metadata": {
    "execution": {
     "iopub.execute_input": "2022-12-24T17:12:36.353179Z",
     "iopub.status.busy": "2022-12-24T17:12:36.352775Z",
     "iopub.status.idle": "2022-12-24T17:12:36.359297Z",
     "shell.execute_reply": "2022-12-24T17:12:36.358190Z"
    },
    "papermill": {
     "duration": 0.04386,
     "end_time": "2022-12-24T17:12:36.361697",
     "exception": false,
     "start_time": "2022-12-24T17:12:36.317837",
     "status": "completed"
    },
    "tags": []
   },
   "outputs": [],
   "source": [
    "X=X.drop(drop_list,axis=1)\n",
    "test=test.drop(drop_list,axis=1)"
   ]
  },
  {
   "cell_type": "code",
   "execution_count": null,
   "id": "04f0050c",
   "metadata": {
    "execution": {
     "iopub.execute_input": "2022-12-24T17:12:36.428767Z",
     "iopub.status.busy": "2022-12-24T17:12:36.428365Z",
     "iopub.status.idle": "2022-12-24T17:14:09.628892Z",
     "shell.execute_reply": "2022-12-24T17:14:09.627701Z"
    },
    "papermill": {
     "duration": 93.264215,
     "end_time": "2022-12-24T17:14:09.658553",
     "exception": false,
     "start_time": "2022-12-24T17:12:36.394338",
     "status": "completed"
    },
    "tags": []
   },
   "outputs": [],
   "source": [
    "print(get_score(xgb.XGBClassifier(**params_XGB_best),X,y).mean())"
   ]
  },
  {
   "cell_type": "code",
   "execution_count": null,
   "id": "d7893d52",
   "metadata": {
    "execution": {
     "iopub.execute_input": "2022-12-24T17:14:09.727119Z",
     "iopub.status.busy": "2022-12-24T17:14:09.726729Z",
     "iopub.status.idle": "2022-12-24T17:14:10.345292Z",
     "shell.execute_reply": "2022-12-24T17:14:10.344098Z"
    },
    "papermill": {
     "duration": 0.656339,
     "end_time": "2022-12-24T17:14:10.348183",
     "exception": false,
     "start_time": "2022-12-24T17:14:09.691844",
     "status": "completed"
    },
    "tags": []
   },
   "outputs": [],
   "source": [
    "from imblearn.over_sampling import SMOTE\n",
    "smote = SMOTE(sampling_strategy=1, n_jobs=-1)\n",
    "X_sm, y_sm = smote.fit_resample(X, y)\n",
    "X = X_sm\n",
    "y = y_sm\n"
   ]
  },
  {
   "cell_type": "code",
   "execution_count": null,
   "id": "6b0926d6",
   "metadata": {
    "execution": {
     "iopub.execute_input": "2022-12-24T17:14:10.416060Z",
     "iopub.status.busy": "2022-12-24T17:14:10.415676Z",
     "iopub.status.idle": "2022-12-24T17:14:10.423443Z",
     "shell.execute_reply": "2022-12-24T17:14:10.422407Z"
    },
    "papermill": {
     "duration": 0.044499,
     "end_time": "2022-12-24T17:14:10.425975",
     "exception": false,
     "start_time": "2022-12-24T17:14:10.381476",
     "status": "completed"
    },
    "tags": []
   },
   "outputs": [],
   "source": [
    "y.value_counts()"
   ]
  },
  {
   "cell_type": "markdown",
   "id": "11c05ad9",
   "metadata": {
    "papermill": {
     "duration": 0.033084,
     "end_time": "2022-12-24T17:14:10.492487",
     "exception": false,
     "start_time": "2022-12-24T17:14:10.459403",
     "status": "completed"
    },
    "tags": []
   },
   "source": [
    "## **##### 5.Modeling**"
   ]
  },
  {
   "cell_type": "code",
   "execution_count": null,
   "id": "dd410708",
   "metadata": {
    "execution": {
     "iopub.execute_input": "2022-12-24T17:14:10.560870Z",
     "iopub.status.busy": "2022-12-24T17:14:10.560347Z",
     "iopub.status.idle": "2022-12-24T17:14:10.565857Z",
     "shell.execute_reply": "2022-12-24T17:14:10.564729Z"
    },
    "papermill": {
     "duration": 0.042023,
     "end_time": "2022-12-24T17:14:10.567940",
     "exception": false,
     "start_time": "2022-12-24T17:14:10.525917",
     "status": "completed"
    },
    "tags": []
   },
   "outputs": [],
   "source": [
    "###############################\n",
    "# Let's define some settings ##\n",
    "###############################\n",
    "optuna_study = \"ON\"\n",
    "LGBM_study = \"OFF\"\n",
    "XGB_study = \"OFF\"\n",
    "CAT_study = \"OFF\"\n",
    "\n",
    "\n",
    "gpu_switch = \"OFF\"\n",
    "skf = StratifiedKFold(n_splits=10)"
   ]
  },
  {
   "cell_type": "markdown",
   "id": "a2ef12b7",
   "metadata": {
    "papermill": {
     "duration": 0.033049,
     "end_time": "2022-12-24T17:14:10.634009",
     "exception": false,
     "start_time": "2022-12-24T17:14:10.600960",
     "status": "completed"
    },
    "tags": []
   },
   "source": [
    "## **##### 5.1. LGBM**"
   ]
  },
  {
   "cell_type": "code",
   "execution_count": null,
   "id": "1ced0a05",
   "metadata": {
    "execution": {
     "iopub.execute_input": "2022-12-24T17:14:10.704318Z",
     "iopub.status.busy": "2022-12-24T17:14:10.703914Z",
     "iopub.status.idle": "2022-12-24T17:14:10.719015Z",
     "shell.execute_reply": "2022-12-24T17:14:10.717937Z"
    },
    "papermill": {
     "duration": 0.053421,
     "end_time": "2022-12-24T17:14:10.721473",
     "exception": false,
     "start_time": "2022-12-24T17:14:10.668052",
     "status": "completed"
    },
    "tags": []
   },
   "outputs": [],
   "source": [
    "if gpu_switch == \"ON\":\n",
    "    method = \"gpu\"\n",
    "else:\n",
    "    method = \"cpu\"\n",
    "\n",
    "def objective(trial):\n",
    "    param = {\n",
    "     'objective': 'binary',\n",
    "     'device': method,\n",
    "     'metric': 'binary_logloss',\n",
    "     'verbosity': -1,\n",
    "     'lambda_l1': trial.suggest_float('lambda_l1', 1e-8, 10.0),\n",
    "     'lambda_l2': trial.suggest_float('lambda_l2', 1e-8, 10.0),\n",
    "     'learning_rate': trial.suggest_float('learning_rate', 0.0001,0.1),\n",
    "     'num_leaves': trial.suggest_int('num_leaves', 2, 512),\n",
    "     'feature_fraction': trial.suggest_float('feature_fraction', 0.4, 1.0),\n",
    "     'bagging_fraction': trial.suggest_float('bagging_fraction', 0.4, 1.0),\n",
    "     'bagging_freq': trial.suggest_int('bagging_freq', 1, 7),\n",
    "     'min_child_samples': trial.suggest_int('min_child_samples', 5, 100),\n",
    "     'n_estimators' : trial.suggest_int('n_estimators', 100, 20000),\n",
    "     'subsample':None,\n",
    "     'subsample_freq':None,\n",
    "     'reg_alpha':None,\n",
    "     'colsample_bytree':None,\n",
    "     'reg_lambda':None,\n",
    "     'early_stopping_round':trial.suggest_int('early_stopping_round', 200, 200)\n",
    "            }\n",
    "    results=[]\n",
    "    n_iterations=[]\n",
    "    for train_index, test_index in skf.split(X, y):\n",
    "        train_X, valid_X = X.iloc[train_index], X.iloc[test_index]\n",
    "        train_y, valid_y = y.iloc[train_index], yi.loc[test_index]\n",
    "        model = lgb.LGBMClassifier(**param).fit(train_X,train_y,\n",
    "                                            eval_set=[(valid_X,valid_y)],\n",
    "                                            callbacks=[lgb.log_evaluation(period=0, show_stdv=False)]\n",
    "                                             )  \n",
    "        n_iteration = model.best_iteration_\n",
    "        n_iterations.append(n_iteration)\n",
    "        result = accuracy_score(valid_y,(model.predict(valid_X)))\n",
    "        results.append(result)\n",
    "        i=int(sum(n_iterations)/len(n_iterations))\n",
    "    print(\"Average n_ite=\" + str(i))\n",
    "    print(\"% of scatter =\" + str(np.std(n_iterations)/i))\n",
    "    n=sum(results)/len(results)\n",
    "    print(n)\n",
    "    print(\"FIIINISH__________________________________\\n\")\n",
    "       \n",
    "    return n\n",
    "\n",
    "if optuna_study == LGBM_study:\n",
    "    study = optuna.create_study(pruner=optuna.pruners.HyperbandPruner(),\n",
    "                                direction='maximize')\n",
    "    study.optimize(objective, n_trials=10000)\n",
    "    print('Best trial:', study.best_trial.params)"
   ]
  },
  {
   "cell_type": "code",
   "execution_count": null,
   "id": "d798dbbd",
   "metadata": {
    "execution": {
     "iopub.execute_input": "2022-12-24T17:14:10.790257Z",
     "iopub.status.busy": "2022-12-24T17:14:10.789844Z",
     "iopub.status.idle": "2022-12-24T17:14:10.795587Z",
     "shell.execute_reply": "2022-12-24T17:14:10.794316Z"
    },
    "papermill": {
     "duration": 0.042641,
     "end_time": "2022-12-24T17:14:10.797757",
     "exception": false,
     "start_time": "2022-12-24T17:14:10.755116",
     "status": "completed"
    },
    "tags": []
   },
   "outputs": [],
   "source": [
    "#Trial 1468 finished with value: 0.8084681392022881\n",
    "params_LGBM= {'lambda_l1': 6.183557865875619, \n",
    "              'lambda_l2': 0.011470762415538793, \n",
    "              'learning_rate': 0.08693013162698361, \n",
    "              'num_leaves': 330,\n",
    "              'feature_fraction': 0.6583455294128855, \n",
    "              'bagging_fraction': 0.8666491286986552, \n",
    "              'bagging_freq': 1, \n",
    "              'min_child_samples': 17, \n",
    "              'n_estimators': 739}\n",
    "#Average n_ite=739"
   ]
  },
  {
   "cell_type": "markdown",
   "id": "ef906904",
   "metadata": {
    "papermill": {
     "duration": 0.034794,
     "end_time": "2022-12-24T17:14:10.865734",
     "exception": false,
     "start_time": "2022-12-24T17:14:10.830940",
     "status": "completed"
    },
    "tags": []
   },
   "source": [
    "## **##### 5.2. XGB**"
   ]
  },
  {
   "cell_type": "code",
   "execution_count": null,
   "id": "036f2dd6",
   "metadata": {
    "execution": {
     "iopub.execute_input": "2022-12-24T17:14:10.937058Z",
     "iopub.status.busy": "2022-12-24T17:14:10.936125Z",
     "iopub.status.idle": "2022-12-24T17:14:10.949389Z",
     "shell.execute_reply": "2022-12-24T17:14:10.948225Z"
    },
    "papermill": {
     "duration": 0.051896,
     "end_time": "2022-12-24T17:14:10.952326",
     "exception": false,
     "start_time": "2022-12-24T17:14:10.900430",
     "status": "completed"
    },
    "tags": []
   },
   "outputs": [],
   "source": [
    "if gpu_switch == \"ON\":\n",
    "    method = \"gpu_hist\"\n",
    "else:\n",
    "    method = \"hist\"\n",
    "\n",
    "def objective(trial):\n",
    "    print(\"START__________________________________\")\n",
    "    param = {  \n",
    "        'tree_method':method,\n",
    "        'objective': 'binary:logistic',\n",
    "        'eval_metric': 'logloss',\n",
    "        'lambda': trial.suggest_float('lambda', 0, 10.0),\n",
    "        'alpha': trial.suggest_float('alpha', 0, 10.0),\n",
    "        'colsample_bytree': trial.suggest_float('colsample_bytree', 0.1,1.0),\n",
    "        'subsample': trial.suggest_float('subsample', 0.2,1.0),\n",
    "        'learning_rate': trial.suggest_float('learning_rate', 0.0001,0.1),\n",
    "        'n_estimators': trial.suggest_int('n_estimators', 100,3000),\n",
    "        'max_depth': trial.suggest_categorical('max_depth', [2,3,4,5,6,7,8,9,10]),\n",
    "        'min_child_weight': trial.suggest_int('min_child_weight', 1, 10),\n",
    "        'num_parallel_tree': trial.suggest_int('num_parallel_tree',1,1),\n",
    "        #'early_stopping_rounds':200,\n",
    "        }\n",
    "    \n",
    "    results=[]\n",
    "    n_iterations=[]\n",
    "    for train_index, test_index in skf.split(X, y):\n",
    "        train_X, valid_X = X.iloc[train_index], X.iloc[test_index]\n",
    "        train_y, valid_y = y.iloc[train_index], y.iloc[test_index]\n",
    "        model = xgb.XGBClassifier(**param).fit(train_X,train_y,\n",
    "                                      eval_set=[(valid_X,valid_y)],\n",
    "                                      verbose=0\n",
    "                                     )  \n",
    "        #n_iteration = model.get_booster().best_iteration\n",
    "        #n_iterations.append(n_iteration)\n",
    "        result = accuracy_score(valid_y,(model.predict(valid_X)))\n",
    "        results.append(result)\n",
    "        #i=int(sum(n_iterations)/len(n_iterations))\n",
    "   # print(\"Average n_ite=\" + str(i))\n",
    "   # print(\"% of scatter =\" + str(np.std(n_iterations)/i))    \n",
    "    n=sum(results)/len(results) \n",
    "    print (n)\n",
    "    print(\"FIIINISH__________________________________\\n\")\n",
    "    return n\n",
    "\n",
    "if optuna_study == XGB_study:\n",
    "    study = optuna.create_study(pruner=optuna.pruners.HyperbandPruner(),\n",
    "                                direction='maximize')\n",
    "    study.optimize(objective, n_trials=1000)"
   ]
  },
  {
   "cell_type": "code",
   "execution_count": null,
   "id": "c1824814",
   "metadata": {
    "execution": {
     "iopub.execute_input": "2022-12-24T17:14:11.021336Z",
     "iopub.status.busy": "2022-12-24T17:14:11.020931Z",
     "iopub.status.idle": "2022-12-24T17:14:11.026625Z",
     "shell.execute_reply": "2022-12-24T17:14:11.025555Z"
    },
    "papermill": {
     "duration": 0.042857,
     "end_time": "2022-12-24T17:14:11.028912",
     "exception": false,
     "start_time": "2022-12-24T17:14:10.986055",
     "status": "completed"
    },
    "tags": []
   },
   "outputs": [],
   "source": [
    "#Trial 82 finished with value: 0.8107728163567985\n",
    "params_XGB_best= {'lambda': 3.0610042624477543, \n",
    "             'alpha': 4.581902571574289, \n",
    "             'colsample_bytree': 0.9241969052729379, \n",
    "             'subsample': 0.9527591724824661, \n",
    "             'learning_rate': 0.06672065863100594, \n",
    "             'n_estimators': 730, #initial value is 651\n",
    "             'max_depth': 5, \n",
    "             'min_child_weight': 1, \n",
    "             'num_parallel_tree': 1}\n",
    "#Average n_ite=661"
   ]
  },
  {
   "cell_type": "markdown",
   "id": "efd95ded",
   "metadata": {
    "papermill": {
     "duration": 0.032478,
     "end_time": "2022-12-24T17:14:11.094297",
     "exception": false,
     "start_time": "2022-12-24T17:14:11.061819",
     "status": "completed"
    },
    "tags": []
   },
   "source": [
    "## **##### 6. Submission**"
   ]
  },
  {
   "cell_type": "code",
   "execution_count": null,
   "id": "7748704c",
   "metadata": {
    "execution": {
     "iopub.execute_input": "2022-12-24T17:14:11.161863Z",
     "iopub.status.busy": "2022-12-24T17:14:11.160947Z",
     "iopub.status.idle": "2022-12-24T17:14:15.965118Z",
     "shell.execute_reply": "2022-12-24T17:14:15.964094Z"
    },
    "papermill": {
     "duration": 4.840856,
     "end_time": "2022-12-24T17:14:15.967796",
     "exception": false,
     "start_time": "2022-12-24T17:14:11.126940",
     "status": "completed"
    },
    "tags": []
   },
   "outputs": [],
   "source": [
    "pred_XGB_best = (xgb.XGBClassifier(**params_XGB_best).fit(X,y)).predict(test)\n",
    "sample['Transported'] = pred_XGB_best\n",
    "sample['Transported']=sample['Transported']>0.5\n",
    "sample.to_csv('20_3_23.csv', index=False)"
   ]
  }
 ],
 "metadata": {
  "kernelspec": {
   "display_name": "Python 3",
   "language": "python",
   "name": "python3"
  },
  "language_info": {
   "codemirror_mode": {
    "name": "ipython",
    "version": 3
   },
   "file_extension": ".py",
   "mimetype": "text/x-python",
   "name": "python",
   "nbconvert_exporter": "python",
   "pygments_lexer": "ipython3",
   "version": "3.8.8"
  },
  "papermill": {
   "default_parameters": {},
   "duration": 446.623504,
   "end_time": "2022-12-24T17:14:18.901867",
   "environment_variables": {},
   "exception": null,
   "input_path": "__notebook__.ipynb",
   "output_path": "__notebook__.ipynb",
   "parameters": {},
   "start_time": "2022-12-24T17:06:52.278363",
   "version": "2.3.4"
  }
 },
 "nbformat": 4,
 "nbformat_minor": 5
}
